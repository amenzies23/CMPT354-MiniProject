{
 "cells": [
  {
   "cell_type": "code",
   "execution_count": 1,
   "id": "e417b976-7516-4904-9ed8-cb6b079af244",
   "metadata": {},
   "outputs": [
    {
     "data": {
      "text/html": [
       "<span style=\"None\">displaylimit: Value None will be treated as 0 (no limit)</span>"
      ],
      "text/plain": [
       "displaylimit: Value None will be treated as 0 (no limit)"
      ]
     },
     "metadata": {},
     "output_type": "display_data"
    }
   ],
   "source": [
    "%load_ext sql\n",
    "%config SqlMagic.displaylimit = None"
   ]
  },
  {
   "cell_type": "code",
   "execution_count": 2,
   "id": "40396eb8-4588-4c63-9e1e-2d0bd8c828ee",
   "metadata": {},
   "outputs": [
    {
     "data": {
      "text/html": [
       "<span style=\"None\">Connecting to &#x27;sqlite:///library.db&#x27;</span>"
      ],
      "text/plain": [
       "Connecting to 'sqlite:///library.db'"
      ]
     },
     "metadata": {},
     "output_type": "display_data"
    }
   ],
   "source": [
    "%sql sqlite:///library.db"
   ]
  },
  {
   "cell_type": "code",
   "execution_count": 4,
   "id": "f0bf5d1d-0ab4-4c97-bf7d-5b561cbc4c50",
   "metadata": {},
   "outputs": [
    {
     "data": {
      "text/html": [
       "<span style=\"None\">Running query in &#x27;sqlite:///library.db&#x27;</span>"
      ],
      "text/plain": [
       "Running query in 'sqlite:///library.db'"
      ]
     },
     "metadata": {},
     "output_type": "display_data"
    },
    {
     "data": {
      "text/html": [
       "<table>\n",
       "    <thead>\n",
       "        <tr>\n",
       "        </tr>\n",
       "    </thead>\n",
       "    <tbody>\n",
       "    </tbody>\n",
       "</table>"
      ],
      "text/plain": [
       "++\n",
       "||\n",
       "++\n",
       "++"
      ]
     },
     "execution_count": 4,
     "metadata": {},
     "output_type": "execute_result"
    }
   ],
   "source": [
    "%%sql\n",
    "CREATE TABLE Library (\n",
    "    library_name TEXT,\n",
    "    address TEXT, \n",
    "    phone_number TEXT,\n",
    "    email TEXT,\n",
    "    PRIMARY KEY (library_name, address)\n",
    ");"
   ]
  },
  {
   "cell_type": "code",
   "execution_count": 5,
   "id": "55387305-76f7-435d-ba58-40e0abff30c5",
   "metadata": {},
   "outputs": [
    {
     "data": {
      "text/html": [
       "<span style=\"None\">Running query in &#x27;sqlite:///library.db&#x27;</span>"
      ],
      "text/plain": [
       "Running query in 'sqlite:///library.db'"
      ]
     },
     "metadata": {},
     "output_type": "display_data"
    },
    {
     "data": {
      "text/html": [
       "<table>\n",
       "    <thead>\n",
       "        <tr>\n",
       "        </tr>\n",
       "    </thead>\n",
       "    <tbody>\n",
       "    </tbody>\n",
       "</table>"
      ],
      "text/plain": [
       "++\n",
       "||\n",
       "++\n",
       "++"
      ]
     },
     "execution_count": 5,
     "metadata": {},
     "output_type": "execute_result"
    }
   ],
   "source": [
    "%%sql\n",
    "CREATE TABLE Item (\n",
    "    item_id INTEGER PRIMARY KEY,\n",
    "    category_id INTEGER,\n",
    "    library_name TEXT,\n",
    "    address TEXT,\n",
    "    title TEXT,\n",
    "    status TEXT,\n",
    "    genre TEXT,\n",
    "    location TEXT,\n",
    "    publisher_name TEXT,\n",
    "    FOREIGN KEY (category_id)\n",
    "        REFERENCES ItemCategory (category_id)\n",
    "    FOREIGN KEY (library_name)\n",
    "        REFERENCES Library (library_name),\n",
    "    FOREIGN KEY (address) \n",
    "        REFERENCES Library (address)\n",
    ");"
   ]
  },
  {
   "cell_type": "code",
   "execution_count": 6,
   "id": "b196b0ae-39c4-46f9-9e16-d54399479973",
   "metadata": {},
   "outputs": [
    {
     "data": {
      "text/html": [
       "<span style=\"None\">Running query in &#x27;sqlite:///library.db&#x27;</span>"
      ],
      "text/plain": [
       "Running query in 'sqlite:///library.db'"
      ]
     },
     "metadata": {},
     "output_type": "display_data"
    },
    {
     "data": {
      "text/html": [
       "<table>\n",
       "    <thead>\n",
       "        <tr>\n",
       "        </tr>\n",
       "    </thead>\n",
       "    <tbody>\n",
       "    </tbody>\n",
       "</table>"
      ],
      "text/plain": [
       "++\n",
       "||\n",
       "++\n",
       "++"
      ]
     },
     "execution_count": 6,
     "metadata": {},
     "output_type": "execute_result"
    }
   ],
   "source": [
    "%%sql\n",
    "CREATE TABLE ItemCategory (\n",
    "    category_id INTEGER PRIMARY KEY,\n",
    "    category_name TEXT\n",
    ");"
   ]
  },
  {
   "cell_type": "code",
   "execution_count": 7,
   "id": "baeefee6-c2ae-4a8d-8304-306713d4190d",
   "metadata": {},
   "outputs": [
    {
     "data": {
      "text/html": [
       "<span style=\"None\">Running query in &#x27;sqlite:///library.db&#x27;</span>"
      ],
      "text/plain": [
       "Running query in 'sqlite:///library.db'"
      ]
     },
     "metadata": {},
     "output_type": "display_data"
    },
    {
     "data": {
      "text/html": [
       "<table>\n",
       "    <thead>\n",
       "        <tr>\n",
       "        </tr>\n",
       "    </thead>\n",
       "    <tbody>\n",
       "    </tbody>\n",
       "</table>"
      ],
      "text/plain": [
       "++\n",
       "||\n",
       "++\n",
       "++"
      ]
     },
     "execution_count": 7,
     "metadata": {},
     "output_type": "execute_result"
    }
   ],
   "source": [
    "%%sql\n",
    "CREATE TABLE Reading (\n",
    "    item_id INTEGER PRIMARY KEY,\n",
    "    isbn INTEGER,\n",
    "    author TEXT,\n",
    "    FOREIGN KEY (item_id)\n",
    "        REFERENCES Item (item_id)\n",
    ");"
   ]
  },
  {
   "cell_type": "code",
   "execution_count": 8,
   "id": "9ce5e998-15ba-4935-bd3b-dd243abf1ba7",
   "metadata": {},
   "outputs": [
    {
     "data": {
      "text/html": [
       "<span style=\"None\">Running query in &#x27;sqlite:///library.db&#x27;</span>"
      ],
      "text/plain": [
       "Running query in 'sqlite:///library.db'"
      ]
     },
     "metadata": {},
     "output_type": "display_data"
    },
    {
     "data": {
      "text/html": [
       "<table>\n",
       "    <thead>\n",
       "        <tr>\n",
       "        </tr>\n",
       "    </thead>\n",
       "    <tbody>\n",
       "    </tbody>\n",
       "</table>"
      ],
      "text/plain": [
       "++\n",
       "||\n",
       "++\n",
       "++"
      ]
     },
     "execution_count": 8,
     "metadata": {},
     "output_type": "execute_result"
    }
   ],
   "source": [
    "%%sql\n",
    "CREATE TABLE Music (\n",
    "    item_id INTEGER PRIMARY KEY,\n",
    "    artist TEXT,\n",
    "    num_songs INTEGER,\n",
    "    FOREIGN KEY (item_id)\n",
    "        REFERENCES Item (item_id)\n",
    ");\n"
   ]
  },
  {
   "cell_type": "code",
   "execution_count": 9,
   "id": "734be474-7f73-4021-adf7-a6df51966a53",
   "metadata": {},
   "outputs": [
    {
     "data": {
      "text/html": [
       "<span style=\"None\">Running query in &#x27;sqlite:///library.db&#x27;</span>"
      ],
      "text/plain": [
       "Running query in 'sqlite:///library.db'"
      ]
     },
     "metadata": {},
     "output_type": "display_data"
    },
    {
     "data": {
      "text/html": [
       "<table>\n",
       "    <thead>\n",
       "        <tr>\n",
       "        </tr>\n",
       "    </thead>\n",
       "    <tbody>\n",
       "    </tbody>\n",
       "</table>"
      ],
      "text/plain": [
       "++\n",
       "||\n",
       "++\n",
       "++"
      ]
     },
     "execution_count": 9,
     "metadata": {},
     "output_type": "execute_result"
    }
   ],
   "source": [
    "%%sql\n",
    "CREATE TABLE User (\n",
    "    user_id INTEGER PRIMARY KEY,\n",
    "    first_name TEXT NOT NULL,\n",
    "    last_name TEXT NOT NULL,\n",
    "    birthdate DATE NOT NULL,\n",
    "    phone_number TEXT NOT NULL,\n",
    "    address TEXT NOT NULL,\n",
    "    email TEXT NOT NULL UNIQUE,\n",
    "    member_since DATE DEFAULT (datetime('now', 'localtime')),\n",
    "    favourite_genre TEXT\n",
    ");"
   ]
  },
  {
   "cell_type": "code",
   "execution_count": 10,
   "id": "4f9d7271-4666-411c-b414-9e1a0c81ad13",
   "metadata": {},
   "outputs": [
    {
     "data": {
      "text/html": [
       "<span style=\"None\">Running query in &#x27;sqlite:///library.db&#x27;</span>"
      ],
      "text/plain": [
       "Running query in 'sqlite:///library.db'"
      ]
     },
     "metadata": {},
     "output_type": "display_data"
    },
    {
     "data": {
      "text/html": [
       "<table>\n",
       "    <thead>\n",
       "        <tr>\n",
       "        </tr>\n",
       "    </thead>\n",
       "    <tbody>\n",
       "    </tbody>\n",
       "</table>"
      ],
      "text/plain": [
       "++\n",
       "||\n",
       "++\n",
       "++"
      ]
     },
     "execution_count": 10,
     "metadata": {},
     "output_type": "execute_result"
    }
   ],
   "source": [
    "%%sql\n",
    "CREATE TABLE Employee (\n",
    "    user_id INTEGER PRIMARY KEY,\n",
    "    job_title TEXT,\n",
    "    salary INTEGER,\n",
    "    FOREIGN KEY (user_id)\n",
    "        REFERENCES User (user_id)\n",
    ");"
   ]
  },
  {
   "cell_type": "code",
   "execution_count": 11,
   "id": "2cc26574-7b49-4420-b7f0-4f24f95977db",
   "metadata": {},
   "outputs": [
    {
     "data": {
      "text/html": [
       "<span style=\"None\">Running query in &#x27;sqlite:///library.db&#x27;</span>"
      ],
      "text/plain": [
       "Running query in 'sqlite:///library.db'"
      ]
     },
     "metadata": {},
     "output_type": "display_data"
    },
    {
     "data": {
      "text/html": [
       "<table>\n",
       "    <thead>\n",
       "        <tr>\n",
       "        </tr>\n",
       "    </thead>\n",
       "    <tbody>\n",
       "    </tbody>\n",
       "</table>"
      ],
      "text/plain": [
       "++\n",
       "||\n",
       "++\n",
       "++"
      ]
     },
     "execution_count": 11,
     "metadata": {},
     "output_type": "execute_result"
    }
   ],
   "source": [
    "%%sql\n",
    "CREATE TABLE Events (\n",
    "    event_id INTEGER PRIMARY KEY,\n",
    "    library_name TEXT,\n",
    "    address TEXT,\n",
    "    room_number INTEGER,\n",
    "    description TEXT,\n",
    "    event_date DATE,\n",
    "    start_time TEXT,\n",
    "    end_time TEXT,\n",
    "    FOREIGN KEY (library_name, address)\n",
    "        REFERENCES Library (library_name, address)\n",
    ");"
   ]
  },
  {
   "cell_type": "code",
   "execution_count": 50,
   "id": "ed469341-2405-4b7b-96d2-f8f52ac11474",
   "metadata": {},
   "outputs": [
    {
     "data": {
      "text/html": [
       "<span style=\"None\">Running query in &#x27;sqlite:///library.db&#x27;</span>"
      ],
      "text/plain": [
       "Running query in 'sqlite:///library.db'"
      ]
     },
     "metadata": {},
     "output_type": "display_data"
    },
    {
     "data": {
      "text/html": [
       "<table>\n",
       "    <thead>\n",
       "        <tr>\n",
       "        </tr>\n",
       "    </thead>\n",
       "    <tbody>\n",
       "    </tbody>\n",
       "</table>"
      ],
      "text/plain": [
       "++\n",
       "||\n",
       "++\n",
       "++"
      ]
     },
     "execution_count": 50,
     "metadata": {},
     "output_type": "execute_result"
    }
   ],
   "source": [
    "%%sql\n",
    "CREATE TABLE Audience (\n",
    "    audience_id INTEGER PRIMARY KEY,\n",
    "    type TEXT,\n",
    "    genre TEXT\n",
    ");"
   ]
  },
  {
   "cell_type": "code",
   "execution_count": 15,
   "id": "e446839c-b4e5-4a8f-8063-4c8efcca665c",
   "metadata": {},
   "outputs": [
    {
     "data": {
      "text/html": [
       "<span style=\"None\">Running query in &#x27;sqlite:///library.db&#x27;</span>"
      ],
      "text/plain": [
       "Running query in 'sqlite:///library.db'"
      ]
     },
     "metadata": {},
     "output_type": "display_data"
    },
    {
     "data": {
      "text/html": [
       "<table>\n",
       "    <thead>\n",
       "        <tr>\n",
       "        </tr>\n",
       "    </thead>\n",
       "    <tbody>\n",
       "    </tbody>\n",
       "</table>"
      ],
      "text/plain": [
       "++\n",
       "||\n",
       "++\n",
       "++"
      ]
     },
     "execution_count": 15,
     "metadata": {},
     "output_type": "execute_result"
    }
   ],
   "source": [
    "%%sql\n",
    "CREATE TABLE Borrows (\n",
    "    user_id INTEGER,\n",
    "    item_id INTEGER,\n",
    "    borrow_date DATE DEFAULT (datetime('now', 'localtime')),\n",
    "    due_date DATE DEFAULT (datetime('now', '+14 days', 'localtime')),\n",
    "    return_date DATE,\n",
    "    fine INTEGER DEFAULT 20,\n",
    "    PRIMARY KEY (user_id, item_id, borrow_date),\n",
    "    FOREIGN KEY (user_id)\n",
    "        REFERENCES User (user_id),\n",
    "    FOREIGN KEY (item_id)\n",
    "        REFERENCES Item (item_id)\n",
    ");"
   ]
  },
  {
   "cell_type": "code",
   "execution_count": 16,
   "id": "b2211048-946c-47b0-bc9d-3fffe2b539a2",
   "metadata": {},
   "outputs": [
    {
     "data": {
      "text/html": [
       "<span style=\"None\">Running query in &#x27;sqlite:///library.db&#x27;</span>"
      ],
      "text/plain": [
       "Running query in 'sqlite:///library.db'"
      ]
     },
     "metadata": {},
     "output_type": "display_data"
    },
    {
     "data": {
      "text/html": [
       "<table>\n",
       "    <thead>\n",
       "        <tr>\n",
       "        </tr>\n",
       "    </thead>\n",
       "    <tbody>\n",
       "    </tbody>\n",
       "</table>"
      ],
      "text/plain": [
       "++\n",
       "||\n",
       "++\n",
       "++"
      ]
     },
     "execution_count": 16,
     "metadata": {},
     "output_type": "execute_result"
    }
   ],
   "source": [
    "%%sql\n",
    "CREATE TABLE Attending (\n",
    "    user_id INTEGER,\n",
    "    event_id INTEGER,\n",
    "    PRIMARY KEY (user_id, event_id),\n",
    "    FOREIGN KEY (user_id)\n",
    "        REFERENCES User (user_id),\n",
    "    FOREIGN KEY (event_id)\n",
    "        REFERENCES Events (event_id)\n",
    ");"
   ]
  },
  {
   "cell_type": "code",
   "execution_count": 17,
   "id": "dc2acd06-d843-4b30-b358-55200870dd8b",
   "metadata": {},
   "outputs": [
    {
     "data": {
      "text/html": [
       "<span style=\"None\">Running query in &#x27;sqlite:///library.db&#x27;</span>"
      ],
      "text/plain": [
       "Running query in 'sqlite:///library.db'"
      ]
     },
     "metadata": {},
     "output_type": "display_data"
    },
    {
     "data": {
      "text/html": [
       "<table>\n",
       "    <thead>\n",
       "        <tr>\n",
       "        </tr>\n",
       "    </thead>\n",
       "    <tbody>\n",
       "    </tbody>\n",
       "</table>"
      ],
      "text/plain": [
       "++\n",
       "||\n",
       "++\n",
       "++"
      ]
     },
     "execution_count": 17,
     "metadata": {},
     "output_type": "execute_result"
    }
   ],
   "source": [
    "%%sql\n",
    "CREATE TABLE RecommendedFor (\n",
    "    event_id INTEGER,\n",
    "    audience_id INTEGER,\n",
    "    PRIMARY KEY (event_id, audience_id),\n",
    "    FOREIGN KEY (event_id)\n",
    "        REFERENCES Events (event_id),\n",
    "    FOREIGN KEY (audience_id)\n",
    "        REFERENCES Audience (audience_id)\n",
    ");"
   ]
  },
  {
   "cell_type": "code",
   "execution_count": 18,
   "id": "44dbd476-8fb2-445c-a49e-610de237cf74",
   "metadata": {},
   "outputs": [
    {
     "data": {
      "text/html": [
       "<span style=\"None\">Running query in &#x27;sqlite:///library.db&#x27;</span>"
      ],
      "text/plain": [
       "Running query in 'sqlite:///library.db'"
      ]
     },
     "metadata": {},
     "output_type": "display_data"
    },
    {
     "data": {
      "text/html": [
       "<table>\n",
       "    <thead>\n",
       "        <tr>\n",
       "        </tr>\n",
       "    </thead>\n",
       "    <tbody>\n",
       "    </tbody>\n",
       "</table>"
      ],
      "text/plain": [
       "++\n",
       "||\n",
       "++\n",
       "++"
      ]
     },
     "execution_count": 18,
     "metadata": {},
     "output_type": "execute_result"
    }
   ],
   "source": [
    "%%sql\n",
    "CREATE TABLE BelongsTo (\n",
    "    user_id INTEGER,\n",
    "    audience_id INTEGER,\n",
    "    PRIMARY KEY (user_id, audience_id),\n",
    "    FOREIGN KEY (user_id)\n",
    "        REFERENCES User (user_id),\n",
    "    FOREIGN KEY (audience_id)\n",
    "        REFERENCES Audience (audience_id)\n",
    ");"
   ]
  },
  {
   "cell_type": "code",
   "execution_count": 19,
   "id": "1ee9cc07-bf83-4718-a0fb-a9423d27b68c",
   "metadata": {},
   "outputs": [
    {
     "data": {
      "text/html": [
       "<span style=\"None\">Running query in &#x27;sqlite:///library.db&#x27;</span>"
      ],
      "text/plain": [
       "Running query in 'sqlite:///library.db'"
      ]
     },
     "metadata": {},
     "output_type": "display_data"
    },
    {
     "data": {
      "text/html": [
       "<table>\n",
       "    <thead>\n",
       "        <tr>\n",
       "        </tr>\n",
       "    </thead>\n",
       "    <tbody>\n",
       "    </tbody>\n",
       "</table>"
      ],
      "text/plain": [
       "++\n",
       "||\n",
       "++\n",
       "++"
      ]
     },
     "execution_count": 19,
     "metadata": {},
     "output_type": "execute_result"
    }
   ],
   "source": [
    "%%sql\n",
    "CREATE TRIGGER UpdateFavGenre AFTER INSERT ON Borrows\n",
    "FOR EACH ROW\n",
    "BEGIN\n",
    "    UPDATE User\n",
    "    SET favourite_genre = (\n",
    "        SELECT genre\n",
    "        FROM Item\n",
    "        JOIN Borrows ON Item.item_id = Borrows.item_id\n",
    "        WHERE Borrows.user_id = NEW.user_id\n",
    "        GROUP BY Item.genre\n",
    "        ORDER BY COUNT(*) DESC, MAX(Borrows.borrow_date) DESC\n",
    "        LIMIT 1\n",
    "    ) WHERE user_id = NEW.user_id;\n",
    "END;"
   ]
  },
  {
   "cell_type": "code",
   "execution_count": 20,
   "id": "89fe17c3-2f72-4ce4-96df-a4f4ef8705e5",
   "metadata": {},
   "outputs": [
    {
     "data": {
      "text/html": [
       "<span style=\"None\">Running query in &#x27;sqlite:///library.db&#x27;</span>"
      ],
      "text/plain": [
       "Running query in 'sqlite:///library.db'"
      ]
     },
     "metadata": {},
     "output_type": "display_data"
    },
    {
     "data": {
      "text/html": [
       "<table>\n",
       "    <thead>\n",
       "        <tr>\n",
       "        </tr>\n",
       "    </thead>\n",
       "    <tbody>\n",
       "    </tbody>\n",
       "</table>"
      ],
      "text/plain": [
       "++\n",
       "||\n",
       "++\n",
       "++"
      ]
     },
     "execution_count": 20,
     "metadata": {},
     "output_type": "execute_result"
    }
   ],
   "source": [
    "%%sql\n",
    "/*\n",
    "    Okay to explain this so I dont seem insane:\n",
    "    1. Upon update of favourite_genre, we need to first calculate the users age to ensure we have their most updated age range\n",
    "    2. Then, we need to use this Age to determine which \"type\" of audience they fall into (child, teen, adult). \n",
    "    3. Then, we need to check if the combination of \"type\" and \"genre\" exists within the entity Audience.\n",
    "    4. If it does not ecist, we need to insert it into Audience - this allows dynamic adding of Audiences.\n",
    "    5. Then we need to grab either the newly created, or existing audience's id, and update the BelongTo table with the user_id and audience_id.\n",
    "*/\n",
    "CREATE TRIGGER UpdateUserAudience\n",
    "AFTER UPDATE OF favourite_genre ON User\n",
    "FOR EACH ROW\n",
    "WHEN NEW.favourite_genre IS NOT NULL\n",
    "BEGIN\n",
    "    DELETE FROM BelongsTo\n",
    "    WHERE user_id = NEW.user_id;\n",
    "\n",
    "    INSERT OR IGNORE INTO Audience (type, genre)\n",
    "    SELECT\n",
    "        CASE\n",
    "            WHEN CAST((julianday('now') - julianday(birthdate)) / 365.2422 AS INTEGER) < 13 THEN 'Children'\n",
    "            WHEN CAST((julianday('now') - julianday(birthdate)) / 365.2422 AS INTEGER) BETWEEN 13 AND 19 THEN 'Teens'\n",
    "            ELSE 'Adults'\n",
    "        END AS audience_type,\n",
    "        NEW.favourite_genre\n",
    "    FROM User\n",
    "    WHERE user_id = NEW.user_id\n",
    "    AND NOT EXISTS (\n",
    "        SELECT 1\n",
    "        FROM Audience\n",
    "        WHERE\n",
    "            type = CASE\n",
    "                WHEN CAST((julianday('now') - julianday(birthdate)) / 365.2422 AS INTEGER) < 13 THEN 'Children'\n",
    "                WHEN CAST((julianday('now') - julianday(birthdate)) / 365.2422 AS INTEGER) BETWEEN 13 AND 19 THEN 'Teens'\n",
    "                ELSE 'Adults'\n",
    "            END\n",
    "            AND genre = NEW.favourite_genre\n",
    "    );\n",
    "\n",
    "    -- Update the BelongsTo table with the user_id and audience_id\n",
    "    INSERT OR REPLACE INTO BelongsTo (user_id, audience_id)\n",
    "    SELECT\n",
    "        NEW.user_id,\n",
    "        Audience.audience_id\n",
    "    FROM Audience\n",
    "    WHERE\n",
    "        type = (\n",
    "            SELECT CASE\n",
    "                WHEN CAST((julianday('now') - julianday(birthdate)) / 365.2422 AS INTEGER) < 13 THEN 'Children'\n",
    "                WHEN CAST((julianday('now') - julianday(birthdate)) / 365.2422 AS INTEGER) BETWEEN 13 AND 19 THEN 'Teens'\n",
    "                ELSE 'Adults'\n",
    "            END\n",
    "            FROM User\n",
    "            WHERE user_id = NEW.user_id\n",
    "        )\n",
    "        AND genre = NEW.favourite_genre;\n",
    "END;"
   ]
  },
  {
   "cell_type": "markdown",
   "id": "b46a63f4-77aa-4492-bd3b-a44a9e6c7318",
   "metadata": {},
   "source": [
    "# Sample data being generated"
   ]
  },
  {
   "cell_type": "code",
   "execution_count": 23,
   "id": "64497553-c8be-417f-a136-0eb2f20278ce",
   "metadata": {},
   "outputs": [
    {
     "data": {
      "text/html": [
       "<span style=\"None\">Running query in &#x27;sqlite:///library.db&#x27;</span>"
      ],
      "text/plain": [
       "Running query in 'sqlite:///library.db'"
      ]
     },
     "metadata": {},
     "output_type": "display_data"
    },
    {
     "data": {
      "text/html": [
       "<span style=\"color: green\">1 rows affected.</span>"
      ],
      "text/plain": [
       "1 rows affected."
      ]
     },
     "metadata": {},
     "output_type": "display_data"
    },
    {
     "data": {
      "text/html": [
       "<table>\n",
       "    <thead>\n",
       "        <tr>\n",
       "        </tr>\n",
       "    </thead>\n",
       "    <tbody>\n",
       "    </tbody>\n",
       "</table>"
      ],
      "text/plain": [
       "++\n",
       "||\n",
       "++\n",
       "++"
      ]
     },
     "execution_count": 23,
     "metadata": {},
     "output_type": "execute_result"
    }
   ],
   "source": [
    "%%sql \n",
    "INSERT INTO Library (library_name, address, phone_number, email) VALUES\n",
    "('Burnaby Public Library', '6100 Willingdon Ave', '604-294-7755', 'info@burnabypubliclibrary.ca')"
   ]
  },
  {
   "cell_type": "code",
   "execution_count": 24,
   "id": "d7f4049f-577f-4bad-8031-fd114584b2cb",
   "metadata": {},
   "outputs": [
    {
     "data": {
      "text/html": [
       "<span style=\"None\">Running query in &#x27;sqlite:///library.db&#x27;</span>"
      ],
      "text/plain": [
       "Running query in 'sqlite:///library.db'"
      ]
     },
     "metadata": {},
     "output_type": "display_data"
    },
    {
     "data": {
      "text/html": [
       "<span style=\"color: green\">5 rows affected.</span>"
      ],
      "text/plain": [
       "5 rows affected."
      ]
     },
     "metadata": {},
     "output_type": "display_data"
    },
    {
     "data": {
      "text/html": [
       "<table>\n",
       "    <thead>\n",
       "        <tr>\n",
       "        </tr>\n",
       "    </thead>\n",
       "    <tbody>\n",
       "    </tbody>\n",
       "</table>"
      ],
      "text/plain": [
       "++\n",
       "||\n",
       "++\n",
       "++"
      ]
     },
     "execution_count": 24,
     "metadata": {},
     "output_type": "execute_result"
    }
   ],
   "source": [
    "%%sql\n",
    "INSERT INTO ItemCategory (category_id, category_name) VALUES\n",
    "(1, 'Book'),\n",
    "(2, 'Online Book'),\n",
    "(3, 'Journal'),\n",
    "(4, 'CD'),\n",
    "(5, 'Vinyl');"
   ]
  },
  {
   "cell_type": "code",
   "execution_count": 25,
   "id": "865b248d-2991-4561-bfb5-2ce2ef883485",
   "metadata": {},
   "outputs": [
    {
     "data": {
      "text/html": [
       "<span style=\"None\">Running query in &#x27;sqlite:///library.db&#x27;</span>"
      ],
      "text/plain": [
       "Running query in 'sqlite:///library.db'"
      ]
     },
     "metadata": {},
     "output_type": "display_data"
    },
    {
     "data": {
      "text/html": [
       "<span style=\"color: green\">5 rows affected.</span>"
      ],
      "text/plain": [
       "5 rows affected."
      ]
     },
     "metadata": {},
     "output_type": "display_data"
    },
    {
     "data": {
      "text/html": [
       "<table>\n",
       "    <thead>\n",
       "        <tr>\n",
       "        </tr>\n",
       "    </thead>\n",
       "    <tbody>\n",
       "    </tbody>\n",
       "</table>"
      ],
      "text/plain": [
       "++\n",
       "||\n",
       "++\n",
       "++"
      ]
     },
     "execution_count": 25,
     "metadata": {},
     "output_type": "execute_result"
    }
   ],
   "source": [
    "%%sql\n",
    "INSERT INTO User (user_id, first_name, last_name, birthdate, phone_number, address, email) VALUES\n",
    "(1, 'John', 'Smith', '1985-07-15', '555-123-4567', '123 Main St', 'john.smith@email.com'),\n",
    "(2, 'Emily', 'Johnson', '1992-03-22', '555-234-5678', '456 Oak Ave', 'emily.j@email.com'),\n",
    "(3, 'Michael', 'Williams', '1978-11-30', '555-345-6789', '789 Pine Rd', 'michael.w@email.com'),\n",
    "(4, 'Sarah', 'Brown', '1995-05-18', '555-456-7890', '321 Elm St', 'sarah.b@email.com'),\n",
    "(5, 'David', 'Jones', '1982-09-25', '555-567-8901', '654 Maple Dr', 'david.j@email.com');"
   ]
  },
  {
   "cell_type": "code",
   "execution_count": 32,
   "id": "bb9fdd3e-c927-439b-9e6a-50f1c906db46",
   "metadata": {},
   "outputs": [
    {
     "data": {
      "text/html": [
       "<span style=\"None\">Running query in &#x27;sqlite:///library.db&#x27;</span>"
      ],
      "text/plain": [
       "Running query in 'sqlite:///library.db'"
      ]
     },
     "metadata": {},
     "output_type": "display_data"
    },
    {
     "data": {
      "text/html": [
       "<span style=\"color: green\">20 rows affected.</span>"
      ],
      "text/plain": [
       "20 rows affected."
      ]
     },
     "metadata": {},
     "output_type": "display_data"
    },
    {
     "data": {
      "text/html": [
       "<table>\n",
       "    <thead>\n",
       "        <tr>\n",
       "        </tr>\n",
       "    </thead>\n",
       "    <tbody>\n",
       "    </tbody>\n",
       "</table>"
      ],
      "text/plain": [
       "++\n",
       "||\n",
       "++\n",
       "++"
      ]
     },
     "execution_count": 32,
     "metadata": {},
     "output_type": "execute_result"
    }
   ],
   "source": [
    "%%sql\n",
    "INSERT INTO Item (item_id, category_id, library_name, address, title, status, genre, location, publisher_name) VALUES\n",
    "-- Books (1-10)\n",
    "(1, 1, 'Burnaby Public Library', '6100 Willingdon Ave', 'The Great Gatsby', 'Available', 'Fiction', 'Fiction Aisle 1', 'Scribner'),\n",
    "(2, 1, 'Burnaby Public Library', '6100 Willingdon Ave', 'Pride and Prejudice', 'Available', 'Romance', 'Romance Aisle 1', 'T. Egerton'),\n",
    "(3, 1, 'Burnaby Public Library', '6100 Willingdon Ave', 'The Hobbit', 'Available', 'Fiction', 'Fiction Aisle 2', 'Allen & Unwin'),\n",
    "(4, 1, 'Burnaby Public Library', '6100 Willingdon Ave', 'Gone Girl', 'Available', 'Mystery', 'Mystery Aisle 1', 'Crown Publishing'),\n",
    "(5, 1, 'Burnaby Public Library', '6100 Willingdon Ave', 'The Da Vinci Code', 'Available', 'Mystery', 'Mystery Aisle 2', 'Doubleday'),\n",
    "(6, 1, 'Burnaby Public Library', '6100 Willingdon Ave', 'The Notebook', 'Available', 'Romance', 'Romance Aisle 2', 'Warner Books'),\n",
    "(7, 1, 'Burnaby Public Library', '6100 Willingdon Ave', '1984', 'Available', 'Fiction', 'Fiction Aisle 3', 'Secker & Warburg'),\n",
    "(8, 1, 'Burnaby Public Library', '6100 Willingdon Ave', 'The Girl with the Dragon Tattoo', 'Available', 'Mystery', 'Mystery Aisle 3', 'Norstedts'),\n",
    "(9, 1, 'Burnaby Public Library', '6100 Willingdon Ave', 'Jane Eyre', 'Available', 'Romance', 'Romance Aisle 3', 'Smith, Elder & Co.'),\n",
    "(10, 1, 'Burnaby Public Library', '6100 Willingdon Ave', 'To Kill a Mockingbird', 'Available', 'Fiction', 'Fiction Aisle 4', 'J. B. Lippincott'),\n",
    "-- Music (11-20)\n",
    "(11, 4, 'Burnaby Public Library', '6100 Willingdon Ave', 'Thriller', 'Available', 'Pop', 'Media Section A1', 'Epic Records'),\n",
    "(12, 4, 'Burnaby Public Library', '6100 Willingdon Ave', 'Back in Black', 'Available', 'Rock', 'Media Section A2', 'Albert Productions'),\n",
    "(13, 5, 'Burnaby Public Library', '6100 Willingdon Ave', 'The Dark Side of the Moon', 'Available', 'Rock', 'Media Section B1', 'Harvest'),\n",
    "(14, 4, 'Burnaby Public Library', '6100 Willingdon Ave', 'Rumours', 'Available', 'Rock', 'Media Section A3', 'Warner Bros.'),\n",
    "(15, 4, 'Burnaby Public Library', '6100 Willingdon Ave', 'The Marshall Mathers LP', 'Available', 'Hip Hop', 'Media Section C1', 'Aftermath'),\n",
    "(16, 5, 'Burnaby Public Library', '6100 Willingdon Ave', 'Abbey Road', 'Available', 'Rock', 'Media Section B2', 'Apple'),\n",
    "(17, 4, 'Burnaby Public Library', '6100 Willingdon Ave', 'The Chronic', 'Available', 'Hip Hop', 'Media Section C2', 'Death Row'),\n",
    "(18, 4, 'Burnaby Public Library', '6100 Willingdon Ave', 'Born to Run', 'Available', 'Rock', 'Media Section A4', 'Columbia'),\n",
    "(19, 5, 'Burnaby Public Library', '6100 Willingdon Ave', 'Kind of Blue', 'Available', 'Jazz', 'Media Section B3', 'Columbia'),\n",
    "(20, 4, 'Burnaby Public Library', '6100 Willingdon Ave', 'The Eminem Show', 'Available', 'Hip Hop', 'Media Section C3', 'Aftermath');"
   ]
  },
  {
   "cell_type": "code",
   "execution_count": 35,
   "id": "90817734-5bd4-4f76-a1ad-839ed417d9aa",
   "metadata": {},
   "outputs": [
    {
     "data": {
      "text/html": [
       "<span style=\"None\">Running query in &#x27;sqlite:///library.db&#x27;</span>"
      ],
      "text/plain": [
       "Running query in 'sqlite:///library.db'"
      ]
     },
     "metadata": {},
     "output_type": "display_data"
    },
    {
     "data": {
      "text/html": [
       "<span style=\"color: green\">10 rows affected.</span>"
      ],
      "text/plain": [
       "10 rows affected."
      ]
     },
     "metadata": {},
     "output_type": "display_data"
    },
    {
     "data": {
      "text/html": [
       "<table>\n",
       "    <thead>\n",
       "        <tr>\n",
       "        </tr>\n",
       "    </thead>\n",
       "    <tbody>\n",
       "    </tbody>\n",
       "</table>"
      ],
      "text/plain": [
       "++\n",
       "||\n",
       "++\n",
       "++"
      ]
     },
     "execution_count": 35,
     "metadata": {},
     "output_type": "execute_result"
    }
   ],
   "source": [
    "%%sql\n",
    "INSERT INTO Reading (item_id, isbn, author) VALUES\n",
    "(1, 9780743273565, 'F. Scott Fitzgerald'),\n",
    "(2, 9781503290563, 'Jane Austen'),\n",
    "(3, 9780547928227, 'J.R.R. Tolkien'),\n",
    "(4, 9780307588371, 'Gillian Flynn'),\n",
    "(5, 9780307474278, 'Dan Brown'),\n",
    "(6, 9780446605236, 'Nicholas Sparks'),\n",
    "(7, 9780451524935, 'George Orwell'),\n",
    "(8, 9780307269751, 'Stieg Larsson'),\n",
    "(9, 9780141441146, 'Charlotte Brontë'),\n",
    "(10, 9780061120084, 'Harper Lee');\n"
   ]
  },
  {
   "cell_type": "code",
   "execution_count": 36,
   "id": "fcf03e25-bff2-4aa1-bec0-b98d78ec15a5",
   "metadata": {},
   "outputs": [
    {
     "data": {
      "text/html": [
       "<span style=\"None\">Running query in &#x27;sqlite:///library.db&#x27;</span>"
      ],
      "text/plain": [
       "Running query in 'sqlite:///library.db'"
      ]
     },
     "metadata": {},
     "output_type": "display_data"
    },
    {
     "data": {
      "text/html": [
       "<span style=\"color: green\">10 rows affected.</span>"
      ],
      "text/plain": [
       "10 rows affected."
      ]
     },
     "metadata": {},
     "output_type": "display_data"
    },
    {
     "data": {
      "text/html": [
       "<table>\n",
       "    <thead>\n",
       "        <tr>\n",
       "        </tr>\n",
       "    </thead>\n",
       "    <tbody>\n",
       "    </tbody>\n",
       "</table>"
      ],
      "text/plain": [
       "++\n",
       "||\n",
       "++\n",
       "++"
      ]
     },
     "execution_count": 36,
     "metadata": {},
     "output_type": "execute_result"
    }
   ],
   "source": [
    "%%sql\n",
    "INSERT INTO Music (item_id, artist, num_songs) VALUES\n",
    "(11, 'Michael Jackson', 9),\n",
    "(12, 'AC/DC', 10),\n",
    "(13, 'Pink Floyd', 10),\n",
    "(14, 'Fleetwood Mac', 11),\n",
    "(15, 'Eminem', 18),\n",
    "(16, 'The Beatles', 17),\n",
    "(17, 'Dr. Dre', 16),\n",
    "(18, 'Bruce Springsteen', 8),\n",
    "(19, 'Miles Davis', 5),\n",
    "(20, 'Eminem', 20);"
   ]
  },
  {
   "cell_type": "code",
   "execution_count": 51,
   "id": "5c127a57-ec06-4ba6-8b38-f026f2a5c1bc",
   "metadata": {},
   "outputs": [
    {
     "data": {
      "text/html": [
       "<span style=\"None\">Running query in &#x27;sqlite:///library.db&#x27;</span>"
      ],
      "text/plain": [
       "Running query in 'sqlite:///library.db'"
      ]
     },
     "metadata": {},
     "output_type": "display_data"
    },
    {
     "data": {
      "text/html": [
       "<span style=\"color: green\">4 rows affected.</span>"
      ],
      "text/plain": [
       "4 rows affected."
      ]
     },
     "metadata": {},
     "output_type": "display_data"
    },
    {
     "data": {
      "text/html": [
       "<table>\n",
       "    <thead>\n",
       "        <tr>\n",
       "        </tr>\n",
       "    </thead>\n",
       "    <tbody>\n",
       "    </tbody>\n",
       "</table>"
      ],
      "text/plain": [
       "++\n",
       "||\n",
       "++\n",
       "++"
      ]
     },
     "execution_count": 51,
     "metadata": {},
     "output_type": "execute_result"
    }
   ],
   "source": [
    "%%sql\n",
    "-- 5 sample audiences (this gets populated by the trigger too)\n",
    "INSERT INTO Audience (audience_id, type, genre) VALUES\n",
    "(1, 'Teens', 'Fiction'),\n",
    "(2, 'Adults', 'Rock'),\n",
    "(3, 'Adults', 'Romance'),\n",
    "(4, 'Teens', 'Mystery');"
   ]
  },
  {
   "cell_type": "code",
   "execution_count": 38,
   "id": "93c1d19f-2392-4724-ba42-c56a822709e4",
   "metadata": {},
   "outputs": [
    {
     "data": {
      "text/html": [
       "<span style=\"None\">Running query in &#x27;sqlite:///library.db&#x27;</span>"
      ],
      "text/plain": [
       "Running query in 'sqlite:///library.db'"
      ]
     },
     "metadata": {},
     "output_type": "display_data"
    },
    {
     "data": {
      "text/html": [
       "<span style=\"color: green\">15 rows affected.</span>"
      ],
      "text/plain": [
       "15 rows affected."
      ]
     },
     "metadata": {},
     "output_type": "display_data"
    },
    {
     "data": {
      "text/html": [
       "<table>\n",
       "    <thead>\n",
       "        <tr>\n",
       "        </tr>\n",
       "    </thead>\n",
       "    <tbody>\n",
       "    </tbody>\n",
       "</table>"
      ],
      "text/plain": [
       "++\n",
       "||\n",
       "++\n",
       "++"
      ]
     },
     "execution_count": 38,
     "metadata": {},
     "output_type": "execute_result"
    }
   ],
   "source": [
    "%%sql\n",
    "INSERT INTO Events (event_id, library_name, address, room_number, description, event_date, start_time, end_time) VALUES\n",
    "-- Fiction events (1-5)\n",
    "(1, 'Burnaby Public Library', '6100 Willingdon Ave', 101, 'Classic Book Club: The Great Gatsby Discussion', '2023-11-15', '18:00', '20:00'),\n",
    "(2, 'Burnaby Public Library', '6100 Willingdon Ave', 102, 'Fantasy Writers Workshop', '2023-11-20', '16:00', '18:00'),\n",
    "(3, 'Burnaby Public Library', '6100 Willingdon Ave', 103, 'Dystopian Fiction Panel', '2023-11-25', '19:00', '21:00'),\n",
    "(4, 'Burnaby Public Library', '6100 Willingdon Ave', 101, 'Teen Fiction Reading Hour', '2023-12-01', '15:00', '16:30'),\n",
    "(5, 'Burnaby Public Library', '6100 Willingdon Ave', 104, 'Author Talk: Modern Fiction Trends', '2023-12-05', '18:30', '20:00'),\n",
    "-- Rock events (6-10)\n",
    "(6, 'Burnaby Public Library', '6100 Willingdon Ave', 201, 'Classic Rock Listening Party', '2023-11-16', '19:00', '21:00'),\n",
    "(7, 'Burnaby Public Library', '6100 Willingdon Ave', 202, 'Rock Music History Lecture', '2023-11-22', '18:00', '20:00'),\n",
    "(8, 'Burnaby Public Library', '6100 Willingdon Ave', 201, 'Vinyl Collectors Meetup', '2023-11-28', '17:00', '19:00'),\n",
    "(9, 'Burnaby Public Library', '6100 Willingdon Ave', 203, 'Guitar Basics Workshop', '2023-12-03', '14:00', '16:00'),\n",
    "(10, 'Burnaby Public Library', '6100 Willingdon Ave', 201, 'Rock Album Listening Club: The Dark Side of the Moon', '2023-12-07', '18:00', '20:00'),\n",
    "-- Mystery events (11-13)\n",
    "(11, 'Burnaby Public Library', '6100 Willingdon Ave', 105, 'Mystery Book Club', '2023-11-18', '18:30', '20:00'),\n",
    "(12, 'Burnaby Public Library', '6100 Willingdon Ave', 105, 'True Crime Discussion Group', '2023-11-24', '19:00', '21:00'),\n",
    "(13, 'Burnaby Public Library', '6100 Willingdon Ave', 106, 'How to Write a Mystery Workshop', '2023-12-02', '17:00', '19:00'),\n",
    "-- Romance events (14-15)\n",
    "(14, 'Burnaby Public Library', '6100 Willingdon Ave', 107, 'Romance Novel Book Club', '2023-11-21', '18:00', '20:00'),\n",
    "(15, 'Burnaby Public Library', '6100 Willingdon Ave', 107, 'Historical Romance Discussion', '2023-12-04', '19:00', '21:00');"
   ]
  },
  {
   "cell_type": "code",
   "execution_count": 53,
   "id": "dc91bc1f-472c-44f5-95be-8267d23dbc87",
   "metadata": {},
   "outputs": [
    {
     "data": {
      "text/html": [
       "<span style=\"None\">Running query in &#x27;sqlite:///library.db&#x27;</span>"
      ],
      "text/plain": [
       "Running query in 'sqlite:///library.db'"
      ]
     },
     "metadata": {},
     "output_type": "display_data"
    },
    {
     "name": "stderr",
     "output_type": "stream",
     "text": [
      "RuntimeError: (sqlite3.IntegrityError) UNIQUE constraint failed: RecommendedFor.event_id, RecommendedFor.audience_id\n",
      "[SQL: INSERT INTO RecommendedFor (event_id, audience_id) VALUES\n",
      "\n",
      "(1, 1), (2, 1), (3, 1), (4, 1), (5, 1),\n",
      "\n",
      "(6, 2), (7, 2), (8, 2), (9, 2), (10, 2),\n",
      "\n",
      "(11, 4), (12, 4), (13, 4),\n",
      "\n",
      "(14, 3), (15, 3);]\n",
      "(Background on this error at: https://sqlalche.me/e/20/gkpj)\n",
      "If you need help solving this issue, send us a message: https://ploomber.io/community\n"
     ]
    }
   ],
   "source": [
    "%%sql\n",
    "INSERT INTO RecommendedFor (event_id, audience_id) VALUES\n",
    "-- Fiction events recommended to Teenager/Fiction\n",
    "(1, 1), (2, 1), (3, 1), (4, 1), (5, 1),\n",
    "-- Rock events recommended to Adult/Rock\n",
    "(6, 2), (7, 2), (8, 2), (9, 2), (10, 2),\n",
    "-- Mystery events recommended to Teenager/Mystery\n",
    "(11, 4), (12, 4), (13, 4),\n",
    "-- Romance events recommended to Adult/Romance\n",
    "(14, 3), (15, 3);"
   ]
  },
  {
   "cell_type": "code",
   "execution_count": 52,
   "id": "1c25c0e5-2974-41f3-9e15-10e528dc78f9",
   "metadata": {},
   "outputs": [
    {
     "data": {
      "text/html": [
       "<span style=\"None\">Running query in &#x27;sqlite:///library.db&#x27;</span>"
      ],
      "text/plain": [
       "Running query in 'sqlite:///library.db'"
      ]
     },
     "metadata": {},
     "output_type": "display_data"
    },
    {
     "data": {
      "text/html": [
       "<span style=\"color: green\">1 rows affected.</span>"
      ],
      "text/plain": [
       "1 rows affected."
      ]
     },
     "metadata": {},
     "output_type": "display_data"
    },
    {
     "data": {
      "text/html": [
       "<table>\n",
       "    <thead>\n",
       "        <tr>\n",
       "        </tr>\n",
       "    </thead>\n",
       "    <tbody>\n",
       "    </tbody>\n",
       "</table>"
      ],
      "text/plain": [
       "++\n",
       "||\n",
       "++\n",
       "++"
      ]
     },
     "execution_count": 52,
     "metadata": {},
     "output_type": "execute_result"
    }
   ],
   "source": [
    "%%sql\n",
    "INSERT INTO Audience (audience_id, type, genre) VALUES\n",
    "(5, 'Adults', 'Fiction')"
   ]
  },
  {
   "cell_type": "code",
   "execution_count": 54,
   "id": "fe77c80b-8bc4-4c1f-9e4c-8b7329562a3a",
   "metadata": {},
   "outputs": [
    {
     "data": {
      "text/html": [
       "<span style=\"None\">Running query in &#x27;sqlite:///library.db&#x27;</span>"
      ],
      "text/plain": [
       "Running query in 'sqlite:///library.db'"
      ]
     },
     "metadata": {},
     "output_type": "display_data"
    },
    {
     "name": "stderr",
     "output_type": "stream",
     "text": [
      "RuntimeError: (sqlite3.IntegrityError) UNIQUE constraint failed: RecommendedFor.event_id, RecommendedFor.audience_id\n",
      "[SQL: INSERT INTO RecommendedFor (event_id, audience_id) VALUES\n",
      "(1, 5), (2, 5), (3, 5), (4, 5), (5, 5)]\n",
      "(Background on this error at: https://sqlalche.me/e/20/gkpj)\n",
      "If you need help solving this issue, send us a message: https://ploomber.io/community\n"
     ]
    }
   ],
   "source": [
    "%%sql\n",
    "-- This and the above insert is to also add Adult and Fiction as an audience, to make sure fiction events go to both teens and adults.\n",
    "INSERT INTO RecommendedFor (event_id, audience_id) VALUES\n",
    "(1, 5), (2, 5), (3, 5), (4, 5), (5, 5)"
   ]
  },
  {
   "cell_type": "code",
   "execution_count": 56,
   "id": "badfa94b-9d5f-4747-956f-ab93243ee02b",
   "metadata": {},
   "outputs": [
    {
     "data": {
      "text/html": [
       "<span style=\"None\">Running query in &#x27;sqlite:///library.db&#x27;</span>"
      ],
      "text/plain": [
       "Running query in 'sqlite:///library.db'"
      ]
     },
     "metadata": {},
     "output_type": "display_data"
    },
    {
     "data": {
      "text/html": [
       "<table>\n",
       "    <thead>\n",
       "        <tr>\n",
       "            <th>event_id</th>\n",
       "            <th>audience_id</th>\n",
       "        </tr>\n",
       "    </thead>\n",
       "    <tbody>\n",
       "        <tr>\n",
       "            <td>1</td>\n",
       "            <td>1</td>\n",
       "        </tr>\n",
       "        <tr>\n",
       "            <td>2</td>\n",
       "            <td>1</td>\n",
       "        </tr>\n",
       "        <tr>\n",
       "            <td>3</td>\n",
       "            <td>1</td>\n",
       "        </tr>\n",
       "        <tr>\n",
       "            <td>4</td>\n",
       "            <td>1</td>\n",
       "        </tr>\n",
       "        <tr>\n",
       "            <td>5</td>\n",
       "            <td>1</td>\n",
       "        </tr>\n",
       "        <tr>\n",
       "            <td>6</td>\n",
       "            <td>2</td>\n",
       "        </tr>\n",
       "        <tr>\n",
       "            <td>7</td>\n",
       "            <td>2</td>\n",
       "        </tr>\n",
       "        <tr>\n",
       "            <td>8</td>\n",
       "            <td>2</td>\n",
       "        </tr>\n",
       "        <tr>\n",
       "            <td>9</td>\n",
       "            <td>2</td>\n",
       "        </tr>\n",
       "        <tr>\n",
       "            <td>10</td>\n",
       "            <td>2</td>\n",
       "        </tr>\n",
       "        <tr>\n",
       "            <td>11</td>\n",
       "            <td>4</td>\n",
       "        </tr>\n",
       "        <tr>\n",
       "            <td>12</td>\n",
       "            <td>4</td>\n",
       "        </tr>\n",
       "        <tr>\n",
       "            <td>13</td>\n",
       "            <td>4</td>\n",
       "        </tr>\n",
       "        <tr>\n",
       "            <td>14</td>\n",
       "            <td>3</td>\n",
       "        </tr>\n",
       "        <tr>\n",
       "            <td>15</td>\n",
       "            <td>3</td>\n",
       "        </tr>\n",
       "        <tr>\n",
       "            <td>1</td>\n",
       "            <td>5</td>\n",
       "        </tr>\n",
       "        <tr>\n",
       "            <td>2</td>\n",
       "            <td>5</td>\n",
       "        </tr>\n",
       "        <tr>\n",
       "            <td>3</td>\n",
       "            <td>5</td>\n",
       "        </tr>\n",
       "        <tr>\n",
       "            <td>4</td>\n",
       "            <td>5</td>\n",
       "        </tr>\n",
       "        <tr>\n",
       "            <td>5</td>\n",
       "            <td>5</td>\n",
       "        </tr>\n",
       "    </tbody>\n",
       "</table>"
      ],
      "text/plain": [
       "+----------+-------------+\n",
       "| event_id | audience_id |\n",
       "+----------+-------------+\n",
       "|    1     |      1      |\n",
       "|    2     |      1      |\n",
       "|    3     |      1      |\n",
       "|    4     |      1      |\n",
       "|    5     |      1      |\n",
       "|    6     |      2      |\n",
       "|    7     |      2      |\n",
       "|    8     |      2      |\n",
       "|    9     |      2      |\n",
       "|    10    |      2      |\n",
       "|    11    |      4      |\n",
       "|    12    |      4      |\n",
       "|    13    |      4      |\n",
       "|    14    |      3      |\n",
       "|    15    |      3      |\n",
       "|    1     |      5      |\n",
       "|    2     |      5      |\n",
       "|    3     |      5      |\n",
       "|    4     |      5      |\n",
       "|    5     |      5      |\n",
       "+----------+-------------+"
      ]
     },
     "execution_count": 56,
     "metadata": {},
     "output_type": "execute_result"
    }
   ],
   "source": [
    "%%sql \n",
    "SELECT * FROM RecommendedFor;"
   ]
  },
  {
   "cell_type": "code",
   "execution_count": 58,
   "id": "1a7fdd1c-1458-464e-8220-65650e9bbb3e",
   "metadata": {},
   "outputs": [
    {
     "data": {
      "text/html": [
       "<span style=\"None\">Running query in &#x27;sqlite:///library.db&#x27;</span>"
      ],
      "text/plain": [
       "Running query in 'sqlite:///library.db'"
      ]
     },
     "metadata": {},
     "output_type": "display_data"
    },
    {
     "data": {
      "text/html": [
       "<table>\n",
       "    <thead>\n",
       "        <tr>\n",
       "            <th>audience_id</th>\n",
       "            <th>type</th>\n",
       "            <th>genre</th>\n",
       "        </tr>\n",
       "    </thead>\n",
       "    <tbody>\n",
       "        <tr>\n",
       "            <td>1</td>\n",
       "            <td>Teens</td>\n",
       "            <td>Fiction</td>\n",
       "        </tr>\n",
       "        <tr>\n",
       "            <td>2</td>\n",
       "            <td>Adults</td>\n",
       "            <td>Rock</td>\n",
       "        </tr>\n",
       "        <tr>\n",
       "            <td>3</td>\n",
       "            <td>Adults</td>\n",
       "            <td>Romance</td>\n",
       "        </tr>\n",
       "        <tr>\n",
       "            <td>4</td>\n",
       "            <td>Teens</td>\n",
       "            <td>Mystery</td>\n",
       "        </tr>\n",
       "        <tr>\n",
       "            <td>5</td>\n",
       "            <td>Adults</td>\n",
       "            <td>Fiction</td>\n",
       "        </tr>\n",
       "    </tbody>\n",
       "</table>"
      ],
      "text/plain": [
       "+-------------+--------+---------+\n",
       "| audience_id |  type  |  genre  |\n",
       "+-------------+--------+---------+\n",
       "|      1      | Teens  | Fiction |\n",
       "|      2      | Adults |   Rock  |\n",
       "|      3      | Adults | Romance |\n",
       "|      4      | Teens  | Mystery |\n",
       "|      5      | Adults | Fiction |\n",
       "+-------------+--------+---------+"
      ]
     },
     "execution_count": 58,
     "metadata": {},
     "output_type": "execute_result"
    }
   ],
   "source": [
    "%%sql \n",
    "    SELECT * FROM Audience;"
   ]
  },
  {
   "cell_type": "code",
   "execution_count": null,
   "id": "ae067af0-5e33-42a7-9f37-6215319475fd",
   "metadata": {},
   "outputs": [],
   "source": []
  }
 ],
 "metadata": {
  "kernelspec": {
   "display_name": "Python 3 (ipykernel)",
   "language": "python",
   "name": "python3"
  },
  "language_info": {
   "codemirror_mode": {
    "name": "ipython",
    "version": 3
   },
   "file_extension": ".py",
   "mimetype": "text/x-python",
   "name": "python",
   "nbconvert_exporter": "python",
   "pygments_lexer": "ipython3",
   "version": "3.12.8"
  }
 },
 "nbformat": 4,
 "nbformat_minor": 5
}
