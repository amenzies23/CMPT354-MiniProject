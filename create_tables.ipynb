{
 "cells": [
  {
   "cell_type": "code",
   "execution_count": 1,
   "id": "e417b976-7516-4904-9ed8-cb6b079af244",
   "metadata": {},
   "outputs": [
    {
     "data": {
      "text/html": [
       "<span style=\"None\">displaylimit: Value None will be treated as 0 (no limit)</span>"
      ],
      "text/plain": [
       "displaylimit: Value None will be treated as 0 (no limit)"
      ]
     },
     "metadata": {},
     "output_type": "display_data"
    }
   ],
   "source": [
    "%load_ext sql\n",
    "%config SqlMagic.displaylimit = None"
   ]
  },
  {
   "cell_type": "code",
   "execution_count": 2,
   "id": "40396eb8-4588-4c63-9e1e-2d0bd8c828ee",
   "metadata": {},
   "outputs": [
    {
     "data": {
      "text/html": [
       "<span style=\"None\">Connecting to &#x27;sqlite:///library.db&#x27;</span>"
      ],
      "text/plain": [
       "Connecting to 'sqlite:///library.db'"
      ]
     },
     "metadata": {},
     "output_type": "display_data"
    }
   ],
   "source": [
    "%sql sqlite:///library.db"
   ]
  },
  {
   "cell_type": "code",
   "execution_count": 3,
   "id": "f0bf5d1d-0ab4-4c97-bf7d-5b561cbc4c50",
   "metadata": {},
   "outputs": [
    {
     "data": {
      "text/html": [
       "<span style=\"None\">Running query in &#x27;sqlite:///library.db&#x27;</span>"
      ],
      "text/plain": [
       "Running query in 'sqlite:///library.db'"
      ]
     },
     "metadata": {},
     "output_type": "display_data"
    },
    {
     "data": {
      "text/html": [
       "<table>\n",
       "    <thead>\n",
       "        <tr>\n",
       "        </tr>\n",
       "    </thead>\n",
       "    <tbody>\n",
       "    </tbody>\n",
       "</table>"
      ],
      "text/plain": [
       "++\n",
       "||\n",
       "++\n",
       "++"
      ]
     },
     "execution_count": 3,
     "metadata": {},
     "output_type": "execute_result"
    }
   ],
   "source": [
    "%%sql\n",
    "CREATE TABLE Library (\n",
    "    library_name TEXT,\n",
    "    address TEXT, \n",
    "    phone_number TEXT,\n",
    "    email TEXT,\n",
    "    PRIMARY KEY (library_name, address)\n",
    ");"
   ]
  },
  {
   "cell_type": "code",
   "execution_count": 4,
   "id": "55387305-76f7-435d-ba58-40e0abff30c5",
   "metadata": {},
   "outputs": [
    {
     "data": {
      "text/html": [
       "<span style=\"None\">Running query in &#x27;sqlite:///library.db&#x27;</span>"
      ],
      "text/plain": [
       "Running query in 'sqlite:///library.db'"
      ]
     },
     "metadata": {},
     "output_type": "display_data"
    },
    {
     "data": {
      "text/html": [
       "<table>\n",
       "    <thead>\n",
       "        <tr>\n",
       "        </tr>\n",
       "    </thead>\n",
       "    <tbody>\n",
       "    </tbody>\n",
       "</table>"
      ],
      "text/plain": [
       "++\n",
       "||\n",
       "++\n",
       "++"
      ]
     },
     "execution_count": 4,
     "metadata": {},
     "output_type": "execute_result"
    }
   ],
   "source": [
    "%%sql\n",
    "CREATE TABLE Item (\n",
    "    item_id INTEGER PRIMARY KEY,\n",
    "    category_id INTEGER,\n",
    "    library_name TEXT,\n",
    "    address TEXT,\n",
    "    title TEXT,\n",
    "    status TEXT,\n",
    "    genre TEXT,\n",
    "    location TEXT,\n",
    "    publisher_name TEXT,\n",
    "    FOREIGN KEY (category_id)\n",
    "        REFERENCES ItemCategory (category_id)\n",
    "    FOREIGN KEY (library_name)\n",
    "        REFERENCES Library (library_name),\n",
    "    FOREIGN KEY (address) \n",
    "        REFERENCES Library (address)\n",
    ");"
   ]
  },
  {
   "cell_type": "code",
   "execution_count": 5,
   "id": "b196b0ae-39c4-46f9-9e16-d54399479973",
   "metadata": {},
   "outputs": [
    {
     "data": {
      "text/html": [
       "<span style=\"None\">Running query in &#x27;sqlite:///library.db&#x27;</span>"
      ],
      "text/plain": [
       "Running query in 'sqlite:///library.db'"
      ]
     },
     "metadata": {},
     "output_type": "display_data"
    },
    {
     "data": {
      "text/html": [
       "<table>\n",
       "    <thead>\n",
       "        <tr>\n",
       "        </tr>\n",
       "    </thead>\n",
       "    <tbody>\n",
       "    </tbody>\n",
       "</table>"
      ],
      "text/plain": [
       "++\n",
       "||\n",
       "++\n",
       "++"
      ]
     },
     "execution_count": 5,
     "metadata": {},
     "output_type": "execute_result"
    }
   ],
   "source": [
    "%%sql\n",
    "CREATE TABLE ItemCategory (\n",
    "    category_id INTEGER PRIMARY KEY,\n",
    "    category_name TEXT\n",
    ");"
   ]
  },
  {
   "cell_type": "code",
   "execution_count": 6,
   "id": "baeefee6-c2ae-4a8d-8304-306713d4190d",
   "metadata": {},
   "outputs": [
    {
     "data": {
      "text/html": [
       "<span style=\"None\">Running query in &#x27;sqlite:///library.db&#x27;</span>"
      ],
      "text/plain": [
       "Running query in 'sqlite:///library.db'"
      ]
     },
     "metadata": {},
     "output_type": "display_data"
    },
    {
     "data": {
      "text/html": [
       "<table>\n",
       "    <thead>\n",
       "        <tr>\n",
       "        </tr>\n",
       "    </thead>\n",
       "    <tbody>\n",
       "    </tbody>\n",
       "</table>"
      ],
      "text/plain": [
       "++\n",
       "||\n",
       "++\n",
       "++"
      ]
     },
     "execution_count": 6,
     "metadata": {},
     "output_type": "execute_result"
    }
   ],
   "source": [
    "%%sql\n",
    "CREATE TABLE Reading (\n",
    "    item_id INTEGER PRIMARY KEY,\n",
    "    isbn INTEGER,\n",
    "    author TEXT,\n",
    "    FOREIGN KEY (item_id)\n",
    "        REFERENCES Item (item_id)\n",
    ");"
   ]
  },
  {
   "cell_type": "code",
   "execution_count": 7,
   "id": "9ce5e998-15ba-4935-bd3b-dd243abf1ba7",
   "metadata": {},
   "outputs": [
    {
     "data": {
      "text/html": [
       "<span style=\"None\">Running query in &#x27;sqlite:///library.db&#x27;</span>"
      ],
      "text/plain": [
       "Running query in 'sqlite:///library.db'"
      ]
     },
     "metadata": {},
     "output_type": "display_data"
    },
    {
     "data": {
      "text/html": [
       "<table>\n",
       "    <thead>\n",
       "        <tr>\n",
       "        </tr>\n",
       "    </thead>\n",
       "    <tbody>\n",
       "    </tbody>\n",
       "</table>"
      ],
      "text/plain": [
       "++\n",
       "||\n",
       "++\n",
       "++"
      ]
     },
     "execution_count": 7,
     "metadata": {},
     "output_type": "execute_result"
    }
   ],
   "source": [
    "%%sql\n",
    "CREATE TABLE Music (\n",
    "    item_id INTEGER PRIMARY KEY,\n",
    "    artist TEXT,\n",
    "    num_songs INTEGER,\n",
    "    FOREIGN KEY (item_id)\n",
    "        REFERENCES Item (item_id)\n",
    ");\n"
   ]
  },
  {
   "cell_type": "code",
   "execution_count": 8,
   "id": "734be474-7f73-4021-adf7-a6df51966a53",
   "metadata": {},
   "outputs": [
    {
     "data": {
      "text/html": [
       "<span style=\"None\">Running query in &#x27;sqlite:///library.db&#x27;</span>"
      ],
      "text/plain": [
       "Running query in 'sqlite:///library.db'"
      ]
     },
     "metadata": {},
     "output_type": "display_data"
    },
    {
     "data": {
      "text/html": [
       "<table>\n",
       "    <thead>\n",
       "        <tr>\n",
       "        </tr>\n",
       "    </thead>\n",
       "    <tbody>\n",
       "    </tbody>\n",
       "</table>"
      ],
      "text/plain": [
       "++\n",
       "||\n",
       "++\n",
       "++"
      ]
     },
     "execution_count": 8,
     "metadata": {},
     "output_type": "execute_result"
    }
   ],
   "source": [
    "%%sql\n",
    "CREATE TABLE User (\n",
    "    user_id INTEGER PRIMARY KEY,\n",
    "    first_name TEXT NOT NULL,\n",
    "    last_name TEXT NOT NULL,\n",
    "    birthdate DATE NOT NULL,\n",
    "    phone_number TEXT NOT NULL,\n",
    "    address TEXT NOT NULL,\n",
    "    email TEXT NOT NULL UNIQUE,\n",
    "    member_since DATE DEFAULT (datetime('now', 'localtime')),\n",
    "    favourite_genre TEXT\n",
    ");"
   ]
  },
  {
   "cell_type": "code",
   "execution_count": 10,
   "id": "4f9d7271-4666-411c-b414-9e1a0c81ad13",
   "metadata": {},
   "outputs": [
    {
     "data": {
      "text/html": [
       "<span style=\"None\">Running query in &#x27;sqlite:///library.db&#x27;</span>"
      ],
      "text/plain": [
       "Running query in 'sqlite:///library.db'"
      ]
     },
     "metadata": {},
     "output_type": "display_data"
    },
    {
     "data": {
      "text/html": [
       "<table>\n",
       "    <thead>\n",
       "        <tr>\n",
       "        </tr>\n",
       "    </thead>\n",
       "    <tbody>\n",
       "    </tbody>\n",
       "</table>"
      ],
      "text/plain": [
       "++\n",
       "||\n",
       "++\n",
       "++"
      ]
     },
     "execution_count": 10,
     "metadata": {},
     "output_type": "execute_result"
    }
   ],
   "source": [
    "%%sql\n",
    "CREATE TABLE Employee (\n",
    "    user_id INTEGER PRIMARY KEY,\n",
    "    job_title TEXT,\n",
    "    salary INTEGER,\n",
    "    FOREIGN KEY (user_id)\n",
    "        REFERENCES User (user_id)\n",
    ");"
   ]
  },
  {
   "cell_type": "code",
   "execution_count": 11,
   "id": "2cc26574-7b49-4420-b7f0-4f24f95977db",
   "metadata": {},
   "outputs": [
    {
     "data": {
      "text/html": [
       "<span style=\"None\">Running query in &#x27;sqlite:///library.db&#x27;</span>"
      ],
      "text/plain": [
       "Running query in 'sqlite:///library.db'"
      ]
     },
     "metadata": {},
     "output_type": "display_data"
    },
    {
     "data": {
      "text/html": [
       "<table>\n",
       "    <thead>\n",
       "        <tr>\n",
       "        </tr>\n",
       "    </thead>\n",
       "    <tbody>\n",
       "    </tbody>\n",
       "</table>"
      ],
      "text/plain": [
       "++\n",
       "||\n",
       "++\n",
       "++"
      ]
     },
     "execution_count": 11,
     "metadata": {},
     "output_type": "execute_result"
    }
   ],
   "source": [
    "%%sql\n",
    "CREATE TABLE Events (\n",
    "    event_id INTEGER PRIMARY KEY,\n",
    "    library_name TEXT,\n",
    "    address TEXT,\n",
    "    room_number INTEGER,\n",
    "    description TEXT,\n",
    "    event_date DATE,\n",
    "    start_time TEXT,\n",
    "    end_time TEXT,\n",
    "    FOREIGN KEY (library_name, address)\n",
    "        REFERENCES Library (library_name, address)\n",
    ");"
   ]
  },
  {
   "cell_type": "code",
   "execution_count": 12,
   "id": "ed469341-2405-4b7b-96d2-f8f52ac11474",
   "metadata": {},
   "outputs": [
    {
     "data": {
      "text/html": [
       "<span style=\"None\">Running query in &#x27;sqlite:///library.db&#x27;</span>"
      ],
      "text/plain": [
       "Running query in 'sqlite:///library.db'"
      ]
     },
     "metadata": {},
     "output_type": "display_data"
    },
    {
     "data": {
      "text/html": [
       "<table>\n",
       "    <thead>\n",
       "        <tr>\n",
       "        </tr>\n",
       "    </thead>\n",
       "    <tbody>\n",
       "    </tbody>\n",
       "</table>"
      ],
      "text/plain": [
       "++\n",
       "||\n",
       "++\n",
       "++"
      ]
     },
     "execution_count": 12,
     "metadata": {},
     "output_type": "execute_result"
    }
   ],
   "source": [
    "%%sql\n",
    "CREATE TABLE Audience (\n",
    "    audience_id INTEGER PRIMARY KEY,\n",
    "    type TEXT,\n",
    "    genre TEXT\n",
    ");"
   ]
  },
  {
   "cell_type": "code",
   "execution_count": null,
   "id": "e446839c-b4e5-4a8f-8063-4c8efcca665c",
   "metadata": {},
   "outputs": [
    {
     "data": {
      "text/html": [
       "<span style=\"None\">Running query in &#x27;sqlite:///library.db&#x27;</span>"
      ],
      "text/plain": [
       "Running query in 'sqlite:///library.db'"
      ]
     },
     "metadata": {},
     "output_type": "display_data"
    },
    {
     "data": {
      "text/html": [
       "<table>\n",
       "    <thead>\n",
       "        <tr>\n",
       "        </tr>\n",
       "    </thead>\n",
       "    <tbody>\n",
       "    </tbody>\n",
       "</table>"
      ],
      "text/plain": [
       "++\n",
       "||\n",
       "++\n",
       "++"
      ]
     },
     "execution_count": 13,
     "metadata": {},
     "output_type": "execute_result"
    }
   ],
   "source": [
    "%%sql\n",
    "CREATE TABLE Borrows (\n",
    "    user_id INTEGER,\n",
    "    item_id INTEGER,\n",
    "    borrow_date DATE DEFAULT (datetime('now', 'localtime')),\n",
    "    due_date DATE DEFAULT (datetime('now', '+14 days', 'localtime')),\n",
    "    return_date DATE,\n",
    "    fine INTEGER DEFAULT 20,\n",
    "    PRIMARY KEY (user_id, item_id, borrow_date),\n",
    "    FOREIGN KEY (user_id)\n",
    "        REFERENCES User (user_id),\n",
    "    FOREIGN KEY (item_id)\n",
    "        REFERENCES Item (item_id)\n",
    ");"
   ]
  },
  {
   "cell_type": "code",
   "execution_count": null,
   "id": "e69310e5",
   "metadata": {},
   "outputs": [
    {
     "ename": "",
     "evalue": "",
     "output_type": "error",
     "traceback": [
      "\u001b[1;31mRunning cells with 'Python 3.13.2' requires the ipykernel package.\n",
      "\u001b[1;31mRun the following command to install 'ipykernel' into the Python environment. \n",
      "\u001b[1;31mCommand: '/opt/homebrew/bin/python3 -m pip install ipykernel -U --user --force-reinstall'"
     ]
    }
   ],
   "source": [
    "%%sql\n",
    "DROP TABLE Borrows;"
   ]
  },
  {
   "cell_type": "code",
   "execution_count": 14,
   "id": "b2211048-946c-47b0-bc9d-3fffe2b539a2",
   "metadata": {},
   "outputs": [
    {
     "data": {
      "text/html": [
       "<span style=\"None\">Running query in &#x27;sqlite:///library.db&#x27;</span>"
      ],
      "text/plain": [
       "Running query in 'sqlite:///library.db'"
      ]
     },
     "metadata": {},
     "output_type": "display_data"
    },
    {
     "data": {
      "text/html": [
       "<table>\n",
       "    <thead>\n",
       "        <tr>\n",
       "        </tr>\n",
       "    </thead>\n",
       "    <tbody>\n",
       "    </tbody>\n",
       "</table>"
      ],
      "text/plain": [
       "++\n",
       "||\n",
       "++\n",
       "++"
      ]
     },
     "execution_count": 14,
     "metadata": {},
     "output_type": "execute_result"
    }
   ],
   "source": [
    "%%sql\n",
    "CREATE TABLE Attending (\n",
    "    user_id INTEGER,\n",
    "    event_id INTEGER,\n",
    "    PRIMARY KEY (user_id, event_id),\n",
    "    FOREIGN KEY (user_id)\n",
    "        REFERENCES User (user_id),\n",
    "    FOREIGN KEY (event_id)\n",
    "        REFERENCES Events (event_id)\n",
    ");"
   ]
  },
  {
   "cell_type": "code",
   "execution_count": 15,
   "id": "dc2acd06-d843-4b30-b358-55200870dd8b",
   "metadata": {},
   "outputs": [
    {
     "data": {
      "text/html": [
       "<span style=\"None\">Running query in &#x27;sqlite:///library.db&#x27;</span>"
      ],
      "text/plain": [
       "Running query in 'sqlite:///library.db'"
      ]
     },
     "metadata": {},
     "output_type": "display_data"
    },
    {
     "data": {
      "text/html": [
       "<table>\n",
       "    <thead>\n",
       "        <tr>\n",
       "        </tr>\n",
       "    </thead>\n",
       "    <tbody>\n",
       "    </tbody>\n",
       "</table>"
      ],
      "text/plain": [
       "++\n",
       "||\n",
       "++\n",
       "++"
      ]
     },
     "execution_count": 15,
     "metadata": {},
     "output_type": "execute_result"
    }
   ],
   "source": [
    "%%sql\n",
    "CREATE TABLE RecommendedFor (\n",
    "    event_id INTEGER,\n",
    "    audience_id INTEGER,\n",
    "    PRIMARY KEY (event_id, audience_id),\n",
    "    FOREIGN KEY (event_id)\n",
    "        REFERENCES Events (event_id),\n",
    "    FOREIGN KEY (audience_id)\n",
    "        REFERENCES Audience (audience_id)\n",
    ");"
   ]
  },
  {
   "cell_type": "code",
   "execution_count": 16,
   "id": "44dbd476-8fb2-445c-a49e-610de237cf74",
   "metadata": {},
   "outputs": [
    {
     "data": {
      "text/html": [
       "<span style=\"None\">Running query in &#x27;sqlite:///library.db&#x27;</span>"
      ],
      "text/plain": [
       "Running query in 'sqlite:///library.db'"
      ]
     },
     "metadata": {},
     "output_type": "display_data"
    },
    {
     "data": {
      "text/html": [
       "<table>\n",
       "    <thead>\n",
       "        <tr>\n",
       "        </tr>\n",
       "    </thead>\n",
       "    <tbody>\n",
       "    </tbody>\n",
       "</table>"
      ],
      "text/plain": [
       "++\n",
       "||\n",
       "++\n",
       "++"
      ]
     },
     "execution_count": 16,
     "metadata": {},
     "output_type": "execute_result"
    }
   ],
   "source": [
    "%%sql\n",
    "CREATE TABLE BelongsTo (\n",
    "    user_id INTEGER,\n",
    "    audience_id INTEGER,\n",
    "    PRIMARY KEY (user_id, audience_id),\n",
    "    FOREIGN KEY (user_id)\n",
    "        REFERENCES User (user_id),\n",
    "    FOREIGN KEY (audience_id)\n",
    "        REFERENCES Audience (audience_id)\n",
    ");"
   ]
  },
  {
   "cell_type": "code",
   "execution_count": 17,
   "id": "1ee9cc07-bf83-4718-a0fb-a9423d27b68c",
   "metadata": {},
   "outputs": [
    {
     "data": {
      "text/html": [
       "<span style=\"None\">Running query in &#x27;sqlite:///library.db&#x27;</span>"
      ],
      "text/plain": [
       "Running query in 'sqlite:///library.db'"
      ]
     },
     "metadata": {},
     "output_type": "display_data"
    },
    {
     "data": {
      "text/html": [
       "<table>\n",
       "    <thead>\n",
       "        <tr>\n",
       "        </tr>\n",
       "    </thead>\n",
       "    <tbody>\n",
       "    </tbody>\n",
       "</table>"
      ],
      "text/plain": [
       "++\n",
       "||\n",
       "++\n",
       "++"
      ]
     },
     "execution_count": 17,
     "metadata": {},
     "output_type": "execute_result"
    }
   ],
   "source": [
    "%%sql\n",
    "CREATE TRIGGER UpdateFavGenre AFTER INSERT ON Borrows\n",
    "FOR EACH ROW\n",
    "BEGIN\n",
    "    UPDATE User\n",
    "    SET favourite_genre = (\n",
    "        SELECT genre\n",
    "        FROM Item\n",
    "        JOIN Borrows ON Item.item_id = Borrows.item_id\n",
    "        WHERE Borrows.user_id = NEW.user_id\n",
    "        GROUP BY Item.genre\n",
    "        ORDER BY COUNT(*) DESC, MAX(Borrows.borrow_date) DESC\n",
    "        LIMIT 1\n",
    "    ) WHERE user_id = NEW.user_id;\n",
    "END;"
   ]
  },
  {
   "cell_type": "code",
   "execution_count": 36,
   "id": "1645d45f-8a22-4186-9242-7d922ba1e3fc",
   "metadata": {},
   "outputs": [
    {
     "data": {
      "text/html": [
       "<span style=\"None\">Running query in &#x27;sqlite:///library.db&#x27;</span>"
      ],
      "text/plain": [
       "Running query in 'sqlite:///library.db'"
      ]
     },
     "metadata": {},
     "output_type": "display_data"
    },
    {
     "data": {
      "text/html": [
       "<table>\n",
       "    <thead>\n",
       "        <tr>\n",
       "        </tr>\n",
       "    </thead>\n",
       "    <tbody>\n",
       "    </tbody>\n",
       "</table>"
      ],
      "text/plain": [
       "++\n",
       "||\n",
       "++\n",
       "++"
      ]
     },
     "execution_count": 36,
     "metadata": {},
     "output_type": "execute_result"
    }
   ],
   "source": [
    "%%sql\n",
    "DROP TRIGGER IF EXISTS UpdateUserAudience;"
   ]
  },
  {
   "cell_type": "code",
   "execution_count": 37,
   "id": "89fe17c3-2f72-4ce4-96df-a4f4ef8705e5",
   "metadata": {},
   "outputs": [
    {
     "data": {
      "text/html": [
       "<span style=\"None\">Running query in &#x27;sqlite:///library.db&#x27;</span>"
      ],
      "text/plain": [
       "Running query in 'sqlite:///library.db'"
      ]
     },
     "metadata": {},
     "output_type": "display_data"
    },
    {
     "data": {
      "text/html": [
       "<table>\n",
       "    <thead>\n",
       "        <tr>\n",
       "        </tr>\n",
       "    </thead>\n",
       "    <tbody>\n",
       "    </tbody>\n",
       "</table>"
      ],
      "text/plain": [
       "++\n",
       "||\n",
       "++\n",
       "++"
      ]
     },
     "execution_count": 37,
     "metadata": {},
     "output_type": "execute_result"
    }
   ],
   "source": [
    "%%sql\n",
    "/*\n",
    "    Okay to explain this so I dont seem insane:\n",
    "    1. Upon update of favourite_genre, we need to first calculate the users age to ensure we have their most updated age range\n",
    "    2. Then, we need to use this Age to determine which \"type\" of audience they fall into (child, teen, adult). \n",
    "    3. Then, we need to check if the combination of \"type\" and \"genre\" exists within the entity Audience.\n",
    "    4. If it does not ecist, we need to insert it into Audience - this allows dynamic adding of Audiences.\n",
    "    5. Then we need to grab either the newly created, or existing audience's id, and update the BelongTo table with the user_id and audience_id.\n",
    "*/\n",
    "CREATE TRIGGER UpdateUserAudience\n",
    "AFTER UPDATE OF favourite_genre ON User\n",
    "FOR EACH ROW\n",
    "WHEN NEW.favourite_genre IS NOT NULL\n",
    "BEGIN\n",
    "    DELETE FROM BelongsTo\n",
    "    WHERE user_id = NEW.user_id;\n",
    "\n",
    "    INSERT OR IGNORE INTO Audience (type, genre)\n",
    "    SELECT\n",
    "        CASE\n",
    "            WHEN CAST((julianday('now') - julianday(birthdate)) / 365.2422 AS INTEGER) < 13 THEN 'Children'\n",
    "            WHEN CAST((julianday('now') - julianday(birthdate)) / 365.2422 AS INTEGER) BETWEEN 13 AND 19 THEN 'Teens'\n",
    "            ELSE 'Adults'\n",
    "        END AS audience_type,\n",
    "        NEW.favourite_genre\n",
    "    FROM User\n",
    "    WHERE user_id = NEW.user_id\n",
    "    AND NOT EXISTS (\n",
    "        SELECT 1\n",
    "        FROM Audience\n",
    "        WHERE\n",
    "            type = CASE\n",
    "                WHEN CAST((julianday('now') - julianday(birthdate)) / 365.2422 AS INTEGER) < 13 THEN 'Children'\n",
    "                WHEN CAST((julianday('now') - julianday(birthdate)) / 365.2422 AS INTEGER) BETWEEN 13 AND 19 THEN 'Teens'\n",
    "                ELSE 'Adults'\n",
    "            END\n",
    "            AND genre = NEW.favourite_genre\n",
    "    );\n",
    "\n",
    "    -- Update the BelongsTo table with the user_id and audience_id\n",
    "    INSERT OR REPLACE INTO BelongsTo (user_id, audience_id)\n",
    "    SELECT\n",
    "        NEW.user_id,\n",
    "        Audience.audience_id\n",
    "    FROM Audience\n",
    "    WHERE\n",
    "        type = (\n",
    "            SELECT CASE\n",
    "                WHEN CAST((julianday('now') - julianday(birthdate)) / 365.2422 AS INTEGER) < 13 THEN 'Children'\n",
    "                WHEN CAST((julianday('now') - julianday(birthdate)) / 365.2422 AS INTEGER) BETWEEN 13 AND 19 THEN 'Teens'\n",
    "                ELSE 'Adults'\n",
    "            END\n",
    "            FROM User\n",
    "            WHERE user_id = NEW.user_id\n",
    "        )\n",
    "        AND genre = NEW.favourite_genre;\n",
    "END;"
   ]
  },
  {
   "cell_type": "markdown",
   "id": "b46a63f4-77aa-4492-bd3b-a44a9e6c7318",
   "metadata": {},
   "source": [
    "# Sample data being generated"
   ]
  },
  {
   "cell_type": "code",
   "execution_count": 70,
   "id": "0f6d0e54-107e-4638-b773-48453611010b",
   "metadata": {},
   "outputs": [
    {
     "data": {
      "text/html": [
       "<span style=\"None\">Running query in &#x27;sqlite:///library.db&#x27;</span>"
      ],
      "text/plain": [
       "Running query in 'sqlite:///library.db'"
      ]
     },
     "metadata": {},
     "output_type": "display_data"
    },
    {
     "data": {
      "text/html": [
       "<span style=\"color: green\">1 rows affected.</span>"
      ],
      "text/plain": [
       "1 rows affected."
      ]
     },
     "metadata": {},
     "output_type": "display_data"
    },
    {
     "data": {
      "text/html": [
       "<table>\n",
       "    <thead>\n",
       "        <tr>\n",
       "        </tr>\n",
       "    </thead>\n",
       "    <tbody>\n",
       "    </tbody>\n",
       "</table>"
      ],
      "text/plain": [
       "++\n",
       "||\n",
       "++\n",
       "++"
      ]
     },
     "execution_count": 70,
     "metadata": {},
     "output_type": "execute_result"
    }
   ],
   "source": [
    "%%sql\n",
    "INSERT INTO Library (library_name, address, phone_number, email) VALUES\n",
    "('Burnaby Public Library', '7311 Kingsway', '604-522-3971', 'info@burnabylibrary.ca');"
   ]
  },
  {
   "cell_type": "code",
   "execution_count": 73,
   "id": "ee0aedf4-820f-4d86-8c3d-bb0531c267c7",
   "metadata": {},
   "outputs": [
    {
     "data": {
      "text/html": [
       "<span style=\"None\">Running query in &#x27;sqlite:///library.db&#x27;</span>"
      ],
      "text/plain": [
       "Running query in 'sqlite:///library.db'"
      ]
     },
     "metadata": {},
     "output_type": "display_data"
    },
    {
     "data": {
      "text/html": [
       "<span style=\"color: green\">6 rows affected.</span>"
      ],
      "text/plain": [
       "6 rows affected."
      ]
     },
     "metadata": {},
     "output_type": "display_data"
    },
    {
     "data": {
      "text/html": [
       "<table>\n",
       "    <thead>\n",
       "        <tr>\n",
       "        </tr>\n",
       "    </thead>\n",
       "    <tbody>\n",
       "    </tbody>\n",
       "</table>"
      ],
      "text/plain": [
       "++\n",
       "||\n",
       "++\n",
       "++"
      ]
     },
     "execution_count": 73,
     "metadata": {},
     "output_type": "execute_result"
    }
   ],
   "source": [
    "%%sql\n",
    "INSERT INTO ItemCategory (category_id, category_name) VALUES\n",
    "(1, 'Book'),\n",
    "(2, 'Journal'),\n",
    "(3, 'Online Book'),\n",
    "(4, 'Magazine'),\n",
    "(5, 'CD'),\n",
    "(6, 'Vinyl');"
   ]
  },
  {
   "cell_type": "code",
   "execution_count": 74,
   "id": "62a6f677-14aa-42ba-a089-89888fb237f7",
   "metadata": {},
   "outputs": [
    {
     "data": {
      "text/html": [
       "<span style=\"None\">Running query in &#x27;sqlite:///library.db&#x27;</span>"
      ],
      "text/plain": [
       "Running query in 'sqlite:///library.db'"
      ]
     },
     "metadata": {},
     "output_type": "display_data"
    },
    {
     "data": {
      "text/html": [
       "<span style=\"color: green\">10 rows affected.</span>"
      ],
      "text/plain": [
       "10 rows affected."
      ]
     },
     "metadata": {},
     "output_type": "display_data"
    },
    {
     "data": {
      "text/html": [
       "<table>\n",
       "    <thead>\n",
       "        <tr>\n",
       "        </tr>\n",
       "    </thead>\n",
       "    <tbody>\n",
       "    </tbody>\n",
       "</table>"
      ],
      "text/plain": [
       "++\n",
       "||\n",
       "++\n",
       "++"
      ]
     },
     "execution_count": 74,
     "metadata": {},
     "output_type": "execute_result"
    }
   ],
   "source": [
    "%%sql\n",
    "INSERT INTO Item (item_id, category_id, library_name, address, title, status, genre, location, publisher_name) VALUES\n",
    "(1, 1, 'Burnaby Public Library', '7311 Kingsway', 'The Great Gatsby', 'Available', 'Fiction', 'A1', 'Scribner'),          -- Book\n",
    "(2, 1, 'Burnaby Public Library', '7311 Kingsway', 'Dune', 'Borrowed', 'Science Fiction', 'B2', 'Chilton Books'),         -- Book\n",
    "(3, 1, 'Burnaby Public Library', '7311 Kingsway', 'Gone Girl', 'Available', 'Mystery', 'C3', 'Crown Publishing'),        -- Book\n",
    "(4, 1, 'Burnaby Public Library', '7311 Kingsway', 'Pride and Prejudice', 'Available', 'Romance', 'D4', 'T. Egerton'),   -- Book\n",
    "(5, 1, 'Burnaby Public Library', '7311 Kingsway', 'Steve Jobs', 'Borrowed', 'Biography', 'E5', 'Simon & Schuster'),      -- Book\n",
    "(6, 5, 'Burnaby Public Library', '7311 Kingsway', 'Abbey Road', 'Available', 'Rock', 'F6', 'Apple Records'),             -- CD\n",
    "(7, 5, 'Burnaby Public Library', '7311 Kingsway', 'Thriller', 'Available', 'Pop', 'G7', 'Epic Records'),                 -- CD\n",
    "(8, 6, 'Burnaby Public Library', '7311 Kingsway', 'A Night at the Opera', 'Available', 'Rock', 'H8', 'EMI Records'),     -- Vinyl\n",
    "(9, 6, 'Burnaby Public Library', '7311 Kingsway', 'Led Zeppelin IV', 'Available', 'Rock', 'I9', 'Atlantic Records'),     -- Vinyl\n",
    "(10, 5, 'Burnaby Public Library', '7311 Kingsway', 'The Dark Side of the Moon', 'Available', 'Progressive Rock', 'J10', 'Harvest Records'); -- CD"
   ]
  },
  {
   "cell_type": "code",
   "execution_count": 75,
   "id": "689633dd-277b-4188-9584-d23c294f6c43",
   "metadata": {},
   "outputs": [
    {
     "data": {
      "text/html": [
       "<span style=\"None\">Running query in &#x27;sqlite:///library.db&#x27;</span>"
      ],
      "text/plain": [
       "Running query in 'sqlite:///library.db'"
      ]
     },
     "metadata": {},
     "output_type": "display_data"
    },
    {
     "data": {
      "text/html": [
       "<span style=\"color: green\">5 rows affected.</span>"
      ],
      "text/plain": [
       "5 rows affected."
      ]
     },
     "metadata": {},
     "output_type": "display_data"
    },
    {
     "data": {
      "text/html": [
       "<table>\n",
       "    <thead>\n",
       "        <tr>\n",
       "        </tr>\n",
       "    </thead>\n",
       "    <tbody>\n",
       "    </tbody>\n",
       "</table>"
      ],
      "text/plain": [
       "++\n",
       "||\n",
       "++\n",
       "++"
      ]
     },
     "execution_count": 75,
     "metadata": {},
     "output_type": "execute_result"
    }
   ],
   "source": [
    "%%sql\n",
    "INSERT INTO Reading (item_id, isbn, author) VALUES\n",
    "(1, 9780743273565, 'F. Scott Fitzgerald'), -- The Great Gatsby\n",
    "(2, 9780441172719, 'Frank Herbert'),      -- Dune\n",
    "(3, 9780307588364, 'Gillian Flynn'),      -- Gone Girl\n",
    "(4, 9780141439518, 'Jane Austen'),        -- Pride and Prejudice\n",
    "(5, 9781451648539, 'Walter Isaacson');    -- Steve Jobs"
   ]
  },
  {
   "cell_type": "code",
   "execution_count": 76,
   "id": "7a282d82-aae9-4fd3-9ced-4c931a46de4f",
   "metadata": {},
   "outputs": [
    {
     "data": {
      "text/html": [
       "<span style=\"None\">Running query in &#x27;sqlite:///library.db&#x27;</span>"
      ],
      "text/plain": [
       "Running query in 'sqlite:///library.db'"
      ]
     },
     "metadata": {},
     "output_type": "display_data"
    },
    {
     "data": {
      "text/html": [
       "<span style=\"color: green\">5 rows affected.</span>"
      ],
      "text/plain": [
       "5 rows affected."
      ]
     },
     "metadata": {},
     "output_type": "display_data"
    },
    {
     "data": {
      "text/html": [
       "<table>\n",
       "    <thead>\n",
       "        <tr>\n",
       "        </tr>\n",
       "    </thead>\n",
       "    <tbody>\n",
       "    </tbody>\n",
       "</table>"
      ],
      "text/plain": [
       "++\n",
       "||\n",
       "++\n",
       "++"
      ]
     },
     "execution_count": 76,
     "metadata": {},
     "output_type": "execute_result"
    }
   ],
   "source": [
    "%%sql\n",
    "INSERT INTO Music (item_id, artist, num_songs) VALUES\n",
    "(6, 'The Beatles', 17),       -- Abbey Road\n",
    "(7, 'Michael Jackson', 9),    -- Thriller\n",
    "(8, 'Queen', 12),             -- A Night at the Opera\n",
    "(9, 'Led Zeppelin', 8),       -- Led Zeppelin IV\n",
    "(10, 'Pink Floyd', 10);       -- The Dark Side of the Moon"
   ]
  },
  {
   "cell_type": "code",
   "execution_count": 77,
   "id": "039b5789-3cf9-42b5-84c9-4bdaf3f22e91",
   "metadata": {},
   "outputs": [
    {
     "data": {
      "text/html": [
       "<span style=\"None\">Running query in &#x27;sqlite:///library.db&#x27;</span>"
      ],
      "text/plain": [
       "Running query in 'sqlite:///library.db'"
      ]
     },
     "metadata": {},
     "output_type": "display_data"
    },
    {
     "data": {
      "text/html": [
       "<span style=\"color: green\">10 rows affected.</span>"
      ],
      "text/plain": [
       "10 rows affected."
      ]
     },
     "metadata": {},
     "output_type": "display_data"
    },
    {
     "data": {
      "text/html": [
       "<table>\n",
       "    <thead>\n",
       "        <tr>\n",
       "        </tr>\n",
       "    </thead>\n",
       "    <tbody>\n",
       "    </tbody>\n",
       "</table>"
      ],
      "text/plain": [
       "++\n",
       "||\n",
       "++\n",
       "++"
      ]
     },
     "execution_count": 77,
     "metadata": {},
     "output_type": "execute_result"
    }
   ],
   "source": [
    "%%sql\n",
    "INSERT INTO User (user_id, first_name, last_name, birthdate, phone_number, address, email, favourite_genre) VALUES\n",
    "(1, 'John', 'Doe', '1980-05-15', '604-111-1111', '123 Elm St, Burnaby', 'john.doe@email.com', NULL),\n",
    "(2, 'Jane', 'Smith', '1990-08-22', '604-222-2222', '456 Oak St, Burnaby', 'jane.smith@email.com', NULL),\n",
    "(3, 'Alice', 'Johnson', '2005-03-10', '604-333-3333', '789 Pine St, Burnaby', 'alice.johnson@email.com', NULL),\n",
    "(4, 'Bob', 'Brown', '2008-07-12', '604-444-4444', '101 Maple St, Burnaby', 'bob.brown@email.com', NULL),\n",
    "(5, 'Charlie', 'Davis', '1995-03-25', '604-555-5555', '202 Cedar St, Burnaby', 'charlie.davis@email.com', NULL),\n",
    "(6, 'Diana', 'Evans', '2015-09-18', '604-666-6666', '303 Birch St, Burnaby', 'diana.evans@email.com', NULL),\n",
    "(7, 'Eve', 'Garcia', '1982-12-05', '604-777-7777', '404 Spruce St, Burnaby', 'eve.garcia@email.com', NULL),\n",
    "(8, 'Frank', 'Harris', '1978-06-30', '604-888-8888', '505 Fir St, Burnaby', 'frank.harris@email.com', NULL),\n",
    "(9, 'Grace', 'Lee', '2003-04-07', '604-999-9999', '606 Willow St, Burnaby', 'grace.lee@email.com', NULL),\n",
    "(10, 'Henry', 'Martinez', '2010-02-14', '604-000-0000', '707 Ash St, Burnaby', 'henry.martinez@email.com', NULL);"
   ]
  },
  {
   "cell_type": "code",
   "execution_count": 78,
   "id": "332760ad-73a6-41f6-ac1e-1cc80934007c",
   "metadata": {},
   "outputs": [
    {
     "data": {
      "text/html": [
       "<span style=\"None\">Running query in &#x27;sqlite:///library.db&#x27;</span>"
      ],
      "text/plain": [
       "Running query in 'sqlite:///library.db'"
      ]
     },
     "metadata": {},
     "output_type": "display_data"
    },
    {
     "data": {
      "text/html": [
       "<span style=\"color: green\">15 rows affected.</span>"
      ],
      "text/plain": [
       "15 rows affected."
      ]
     },
     "metadata": {},
     "output_type": "display_data"
    },
    {
     "data": {
      "text/html": [
       "<table>\n",
       "    <thead>\n",
       "        <tr>\n",
       "        </tr>\n",
       "    </thead>\n",
       "    <tbody>\n",
       "    </tbody>\n",
       "</table>"
      ],
      "text/plain": [
       "++\n",
       "||\n",
       "++\n",
       "++"
      ]
     },
     "execution_count": 78,
     "metadata": {},
     "output_type": "execute_result"
    }
   ],
   "source": [
    "%%sql\n",
    "INSERT INTO Events (event_id, library_name, address, room_number, description, event_date, start_time, end_time) VALUES\n",
    "(1, 'Burnaby Public Library', '7311 Kingsway', 101, 'Book Club: Fantasy Novels', '2025-03-21', '18:00', '20:00'),\n",
    "(2, 'Burnaby Public Library', '7311 Kingsway', 102, 'Teen Mystery Night', '2025-03-22', '19:00', '21:00'),\n",
    "(3, 'Burnaby Public Library', '7311 Kingsway', 103, 'Children’s Storytime', '2025-03-23', '10:00', '11:00'),\n",
    "(4, 'Burnaby Public Library', '7311 Kingsway', 104, 'Romance Author Talk', '2025-03-24', '18:30', '20:00'),\n",
    "(5, 'Burnaby Public Library', '7311 Kingsway', 105, 'Horror Movie Night', '2025-03-25', '19:00', '22:00'),\n",
    "(6, 'Burnaby Public Library', '7311 Kingsway', 106, 'Sci-Fi Book Discussion', '2025-03-26', '19:00', '21:00'),\n",
    "(7, 'Burnaby Public Library', '7311 Kingsway', 107, 'Historical Fiction Workshop', '2025-03-27', '14:00', '16:00'),\n",
    "(8, 'Burnaby Public Library', '7311 Kingsway', 108, 'Poetry Reading: Modern Classics', '2025-03-28', '18:00', '20:00'),\n",
    "(9, 'Burnaby Public Library', '7311 Kingsway', 109, 'Craft Workshop: DIY Bookmarks', '2025-03-29', '15:00', '17:00'),\n",
    "(10, 'Burnaby Public Library', '7311 Kingsway', 110, 'Music Performance: Local Band', '2025-03-30', '19:00', '21:00'),\n",
    "(11, 'Burnaby Public Library', '7311 Kingsway', 101, 'Book Club: Mystery Novels', '2025-03-31', '18:00', '20:00'),\n",
    "(12, 'Burnaby Public Library', '7311 Kingsway', 102, 'Teen Coding Workshop', '2025-04-01', '19:00', '21:00'),\n",
    "(13, 'Burnaby Public Library', '7311 Kingsway', 103, 'Children’s Art Class', '2025-04-02', '10:00', '11:00'),\n",
    "(14, 'Burnaby Public Library', '7311 Kingsway', 104, 'Romantic Poetry Reading', '2025-04-03', '18:30', '20:00'),\n",
    "(15, 'Burnaby Public Library', '7311 Kingsway', 105, 'Classic Horror Movie Night', '2025-04-04', '19:00', '22:00');"
   ]
  },
  {
   "cell_type": "code",
   "execution_count": 79,
   "id": "650a90fb-23fe-42c9-86ba-53e6ac62fbe3",
   "metadata": {},
   "outputs": [
    {
     "data": {
      "text/html": [
       "<span style=\"None\">Running query in &#x27;sqlite:///library.db&#x27;</span>"
      ],
      "text/plain": [
       "Running query in 'sqlite:///library.db'"
      ]
     },
     "metadata": {},
     "output_type": "display_data"
    },
    {
     "data": {
      "text/html": [
       "<span style=\"color: green\">5 rows affected.</span>"
      ],
      "text/plain": [
       "5 rows affected."
      ]
     },
     "metadata": {},
     "output_type": "display_data"
    },
    {
     "data": {
      "text/html": [
       "<span style=\"color: green\">5 rows affected.</span>"
      ],
      "text/plain": [
       "5 rows affected."
      ]
     },
     "metadata": {},
     "output_type": "display_data"
    },
    {
     "data": {
      "text/html": [
       "<table>\n",
       "    <thead>\n",
       "        <tr>\n",
       "        </tr>\n",
       "    </thead>\n",
       "    <tbody>\n",
       "    </tbody>\n",
       "</table>"
      ],
      "text/plain": [
       "++\n",
       "||\n",
       "++\n",
       "++"
      ]
     },
     "execution_count": 79,
     "metadata": {},
     "output_type": "execute_result"
    }
   ],
   "source": [
    "%%sql \n",
    "-- User 1 borrows items\n",
    "INSERT INTO Borrows (user_id, item_id, borrow_date, due_date, return_date, fine) VALUES\n",
    "(1, 1, '2023-10-01', '2023-10-15', '2023-10-14', NULL),  -- Returned on time\n",
    "(1, 2, '2023-10-05', '2023-10-19', NULL, NULL),          -- Still borrowed\n",
    "(1, 6, '2023-10-10', '2023-10-24', '2023-10-25', 5),     -- Returned late, $5 fine\n",
    "(1, 7, '2023-10-12', '2023-10-26', NULL, NULL),          -- Still borrowed\n",
    "(1, 9, '2023-10-15', '2023-10-29', '2023-10-28', NULL);  -- Returned on time\n",
    "\n",
    "-- User 2 borrows items\n",
    "INSERT INTO Borrows (user_id, item_id, borrow_date, due_date, return_date, fine) VALUES\n",
    "(2, 3, '2023-10-02', '2023-10-16', '2023-10-16', NULL),  -- Returned on time\n",
    "(2, 4, '2023-10-06', '2023-10-20', NULL, NULL),          -- Still borrowed\n",
    "(2, 5, '2023-10-08', '2023-10-22', '2023-10-23', 3),     -- Returned late, $3 fine\n",
    "(2, 8, '2023-10-11', '2023-10-25', NULL, NULL),          -- Still borrowed\n",
    "(2, 10, '2023-10-14', '2023-10-28', '2023-10-27', NULL); -- Returned on time"
   ]
  },
  {
   "cell_type": "code",
   "execution_count": 83,
   "id": "f3a66b8f-33e4-4b62-8a26-95e0c16fa43d",
   "metadata": {},
   "outputs": [
    {
     "data": {
      "text/html": [
       "<span style=\"None\">Running query in &#x27;sqlite:///library.db&#x27;</span>"
      ],
      "text/plain": [
       "Running query in 'sqlite:///library.db'"
      ]
     },
     "metadata": {},
     "output_type": "display_data"
    },
    {
     "data": {
      "text/html": [
       "<span style=\"color: green\">1 rows affected.</span>"
      ],
      "text/plain": [
       "1 rows affected."
      ]
     },
     "metadata": {},
     "output_type": "display_data"
    },
    {
     "data": {
      "text/html": [
       "<table>\n",
       "    <thead>\n",
       "        <tr>\n",
       "        </tr>\n",
       "    </thead>\n",
       "    <tbody>\n",
       "    </tbody>\n",
       "</table>"
      ],
      "text/plain": [
       "++\n",
       "||\n",
       "++\n",
       "++"
      ]
     },
     "execution_count": 83,
     "metadata": {},
     "output_type": "execute_result"
    }
   ],
   "source": [
    "%%sql\n",
    "INSERT INTO RecommendedFor (event_id, audience_id) VALUES (10, 3);"
   ]
  },
  {
   "cell_type": "code",
   "execution_count": 87,
   "id": "4a3e9a6e-73b3-41e2-8295-31651a3cfab0",
   "metadata": {},
   "outputs": [
    {
     "data": {
      "text/html": [
       "<span style=\"None\">Running query in &#x27;sqlite:///library.db&#x27;</span>"
      ],
      "text/plain": [
       "Running query in 'sqlite:///library.db'"
      ]
     },
     "metadata": {},
     "output_type": "display_data"
    },
    {
     "name": "stderr",
     "output_type": "stream",
     "text": [
      "RuntimeError: (sqlite3.OperationalError) database is locked\n",
      "[SQL: DELETE FROM Attending;]\n",
      "(Background on this error at: https://sqlalche.me/e/20/e3q8)\n",
      "If you need help solving this issue, send us a message: https://ploomber.io/community\n"
     ]
    }
   ],
   "source": [
    "%%sql \n",
    "DELETE FROM Attending;"
   ]
  },
  {
   "cell_type": "code",
   "execution_count": null,
   "id": "51294817-c341-43c9-889c-bf451659654f",
   "metadata": {},
   "outputs": [],
   "source": [
    "%%sql"
   ]
  }
 ],
 "metadata": {
  "kernelspec": {
   "display_name": "Python 3",
   "language": "python",
   "name": "python3"
  },
  "language_info": {
   "codemirror_mode": {
    "name": "ipython",
    "version": 3
   },
   "file_extension": ".py",
   "mimetype": "text/x-python",
   "name": "python",
   "nbconvert_exporter": "python",
   "pygments_lexer": "ipython3",
   "version": "3.13.2"
  }
 },
 "nbformat": 4,
 "nbformat_minor": 5
}
